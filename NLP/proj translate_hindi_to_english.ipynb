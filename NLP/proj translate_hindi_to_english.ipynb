{
 "cells": [
  {
   "cell_type": "code",
   "execution_count": 1,
   "id": "d3b2a14b",
   "metadata": {},
   "outputs": [],
   "source": [
    "#pip install transformers torch "
   ]
  },
  {
   "cell_type": "code",
   "execution_count": 2,
   "id": "f37def75",
   "metadata": {},
   "outputs": [],
   "source": [
    "### Neural Machine Translation"
   ]
  },
  {
   "cell_type": "code",
   "execution_count": 3,
   "id": "ba56e3f9",
   "metadata": {},
   "outputs": [],
   "source": [
    "from transformers import MarianMTModel, MarianTokenizer"
   ]
  },
  {
   "cell_type": "code",
   "execution_count": 4,
   "id": "5419f6e3",
   "metadata": {},
   "outputs": [
    {
     "name": "stderr",
     "output_type": "stream",
     "text": [
      "C:\\Users\\HP\\AppData\\Local\\Programs\\Python\\Python310\\lib\\site-packages\\transformers\\models\\marian\\tokenization_marian.py:175: UserWarning: Recommended: pip install sacremoses.\n",
      "  warnings.warn(\"Recommended: pip install sacremoses.\")\n",
      "C:\\Users\\HP\\AppData\\Local\\Programs\\Python\\Python310\\lib\\site-packages\\transformers\\tokenization_utils_base.py:4047: FutureWarning: \n",
      "`prepare_seq2seq_batch` is deprecated and will be removed in version 5 of HuggingFace Transformers. Use the regular\n",
      "`__call__` method to prepare your inputs and targets.\n",
      "\n",
      "Here is a short example:\n",
      "\n",
      "model_inputs = tokenizer(src_texts, text_target=tgt_texts, ...)\n",
      "\n",
      "If you either need to use different keyword arguments for the source and target texts, you should do two calls like\n",
      "this:\n",
      "\n",
      "model_inputs = tokenizer(src_texts, ...)\n",
      "labels = tokenizer(text_target=tgt_texts, ...)\n",
      "model_inputs[\"labels\"] = labels[\"input_ids\"]\n",
      "\n",
      "See the documentation of your specific tokenizer for more details on the specific arguments to the tokenizer of choice.\n",
      "For a more complete example, see the implementation of `prepare_seq2seq_batch`.\n",
      "\n",
      "  warnings.warn(formatted_warning, FutureWarning)\n"
     ]
    },
    {
     "name": "stdout",
     "output_type": "stream",
     "text": [
      "English Translation: Thank you\n"
     ]
    }
   ],
   "source": [
    "def translate_hindi_to_english(text):\n",
    "    model_name = 'Helsinki-NLP/opus-mt-hi-en'  # Model fotranslating Hindi to English\n",
    "    tokenizer = MarianTokenizer.from_pretrained(model_name)\n",
    "    model = MarianMTModel.from_pretrained(model_name)\n",
    "\n",
    "    # Tokenize the input text\n",
    "    batch = tokenizer.prepare_seq2seq_batch(src_texts=[text], return_tensors=\"pt\")\n",
    "\n",
    "    # Generate translation outputs\n",
    "    translated = model.generate(**batch)\n",
    "\n",
    "    # Decode the translated text\n",
    "    translated_text = tokenizer.batch_decode(translated, skip_special_tokens=True)[0]\n",
    "\n",
    "    return translated_text\n",
    "\n",
    "# Example usage\n",
    "hindi_text = \"धन्यवाद\"\n",
    "english_translation = translate_hindi_to_english(hindi_text)\n",
    "print(\"English Translation:\", english_translation)"
   ]
  },
  {
   "cell_type": "code",
   "execution_count": null,
   "id": "38ddd4c4",
   "metadata": {},
   "outputs": [],
   "source": []
  },
  {
   "cell_type": "code",
   "execution_count": null,
   "id": "c7beeb82",
   "metadata": {},
   "outputs": [],
   "source": []
  }
 ],
 "metadata": {
  "kernelspec": {
   "display_name": "Python 3 (ipykernel)",
   "language": "python",
   "name": "python3"
  },
  "language_info": {
   "codemirror_mode": {
    "name": "ipython",
    "version": 3
   },
   "file_extension": ".py",
   "mimetype": "text/x-python",
   "name": "python",
   "nbconvert_exporter": "python",
   "pygments_lexer": "ipython3",
   "version": "3.10.10"
  }
 },
 "nbformat": 4,
 "nbformat_minor": 5
}
