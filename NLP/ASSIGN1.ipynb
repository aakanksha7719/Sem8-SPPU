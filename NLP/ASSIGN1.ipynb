{
 "cells": [
  {
   "cell_type": "code",
   "execution_count": 1,
   "id": "1d20cae6",
   "metadata": {},
   "outputs": [],
   "source": [
    "import numpy as np\n",
    "import pandas as pd\n",
    "import nltk"
   ]
  },
  {
   "cell_type": "code",
   "execution_count": 2,
   "id": "fbd6a481",
   "metadata": {},
   "outputs": [],
   "source": [
    "#Different Tokenizers"
   ]
  },
  {
   "cell_type": "code",
   "execution_count": 3,
   "id": "73799c3f",
   "metadata": {},
   "outputs": [],
   "source": [
    "# Sample sentence\n",
    "sentence = \" I love eating apples, oranges, and bananas. Don't you? better happily can't #beautiful new york city @ask 12/25/2022 \""
   ]
  },
  {
   "cell_type": "code",
   "execution_count": 4,
   "id": "a47a8d59",
   "metadata": {},
   "outputs": [],
   "source": [
    "#WhiteSpace Tokenization"
   ]
  },
  {
   "cell_type": "code",
   "execution_count": 5,
   "id": "e8cbefc2",
   "metadata": {},
   "outputs": [
    {
     "name": "stdout",
     "output_type": "stream",
     "text": [
      "['I', 'love', 'eating', 'apples,', 'oranges,', 'and', 'bananas.', \"Don't\", 'you?', 'better', 'happily', \"can't\", '#beautiful', 'new', 'york', 'city', '@ask', '12/25/2022']\n"
     ]
    }
   ],
   "source": [
    "from nltk.tokenize import WhitespaceTokenizer\n",
    "whitespace_tokenized = WhitespaceTokenizer().tokenize(sentence)\n",
    "print(whitespace_tokenized)"
   ]
  },
  {
   "cell_type": "code",
   "execution_count": 6,
   "id": "5e1b0319",
   "metadata": {},
   "outputs": [
    {
     "name": "stdout",
     "output_type": "stream",
     "text": [
      "['I', 'love', 'eating', 'apples', ',', 'oranges', ',', 'and', 'bananas.', 'Do', \"n't\", 'you', '?', 'better', 'happily', 'ca', \"n't\", '#', 'beautiful', 'new', 'york', 'city', '@', 'ask', '12/25/2022']\n"
     ]
    }
   ],
   "source": [
    "# TreeBankWord Tokenization\n",
    "\n",
    "from nltk.tokenize import TreebankWordTokenizer\n",
    "treebank_tokenized = TreebankWordTokenizer().tokenize(sentence)\n",
    "print(treebank_tokenized)"
   ]
  },
  {
   "cell_type": "code",
   "execution_count": 7,
   "id": "4355e342",
   "metadata": {},
   "outputs": [
    {
     "name": "stdout",
     "output_type": "stream",
     "text": [
      "['I_love', 'eating', 'apples,', 'oranges,', 'and', 'bananas.', \"Don't\", 'you?', 'better', 'happily', \"can't\", '#beautiful', 'new', 'york', 'city', '@ask', '12/25/2022']\n"
     ]
    }
   ],
   "source": [
    "#Multi-Word Expression (MWE) tokenizer Tokenization\n",
    "\n",
    "from nltk.tokenize import MWETokenizer\n",
    "\n",
    "s1=[(\"I\", \"love\")]\n",
    "mwe_tokenizer = MWETokenizer(s1)\n",
    "mwe_tokens = mwe_tokenizer.tokenize(sentence.split())\n",
    "print(mwe_tokens)"
   ]
  },
  {
   "cell_type": "code",
   "execution_count": 8,
   "id": "34af4fb0",
   "metadata": {},
   "outputs": [
    {
     "name": "stdout",
     "output_type": "stream",
     "text": [
      "['I', 'love', 'eating', 'apples', ',', 'oranges', ',', 'and', 'bananas', '.', \"Don't\", 'you', '?', 'better', 'happily', \"can't\", '#beautiful', 'new', 'york', 'city', '@ask', '12/25', '/', '2022']\n"
     ]
    }
   ],
   "source": [
    "#Tweet Tokenization\n",
    "\n",
    "from nltk.tokenize import TweetTokenizer\n",
    "tweet_tokenized = TweetTokenizer().tokenize(sentence)\n",
    "print(tweet_tokenized)"
   ]
  },
  {
   "cell_type": "code",
   "execution_count": 9,
   "id": "05813492",
   "metadata": {},
   "outputs": [
    {
     "name": "stdout",
     "output_type": "stream",
     "text": [
      "['I', 'love', 'eating', 'apples', ',', 'oranges', ',', 'and', 'bananas', '.', 'Don', \"'\", 't', 'you', '?', 'better', 'happily', 'can', \"'\", 't', '#', 'beautiful', 'new', 'york', 'city', '@', 'ask', '12', '/', '25', '/', '2022']\n"
     ]
    }
   ],
   "source": [
    "#Punctuation Based Word Tokenization\n",
    "\n",
    "from nltk.tokenize import wordpunct_tokenize\n",
    "print(wordpunct_tokenize(sentence))"
   ]
  },
  {
   "cell_type": "code",
   "execution_count": 10,
   "id": "433c0435",
   "metadata": {},
   "outputs": [
    {
     "name": "stdout",
     "output_type": "stream",
     "text": [
      "Before Snowball Stemming\n",
      "['I', 'love', 'eating', 'apples', ',', 'oranges', ',', 'and', 'bananas', '.', \"Don't\", 'you', '?', 'better', 'happily', \"can't\", '#beautiful', 'new', 'york', 'city', '@ask', '12/25', '/', '2022'] \n",
      "\n",
      "After Snowball Stemming\n",
      "['i', 'love', 'eat', 'appl', ',', 'orang', ',', 'and', 'banana', '.', \"don't\", 'you', '?', 'better', 'happili', \"can't\", '#beauti', 'new', 'york', 'citi', '@ask', '12/25', '/', '2022']\n"
     ]
    }
   ],
   "source": [
    "#Different Stemming Techniques\n",
    "#SnowBallStemming\n",
    "\n",
    "from nltk.stem.snowball import SnowballStemmer\n",
    "snowballstemmer = SnowballStemmer(language='english')\n",
    "stem_words = []\n",
    "for w in tweet_tokenized:\n",
    "    x = snowballstemmer.stem(w)\n",
    "    stem_words.append(x)\n",
    "print('Before Snowball Stemming')\n",
    "print(tweet_tokenized,'\\n')\n",
    "print('After Snowball Stemming')\n",
    "print(stem_words)"
   ]
  },
  {
   "cell_type": "code",
   "execution_count": 11,
   "id": "68ee4d8a",
   "metadata": {},
   "outputs": [
    {
     "name": "stdout",
     "output_type": "stream",
     "text": [
      "Before Potter Stemming\n",
      "['I', 'love', 'eating', 'apples', ',', 'oranges', ',', 'and', 'bananas', '.', \"Don't\", 'you', '?', 'better', 'happily', \"can't\", '#beautiful', 'new', 'york', 'city', '@ask', '12/25', '/', '2022'] \n",
      "\n",
      "After Potter Stemming\n",
      "['i', 'love', 'eat', 'appl', ',', 'orang', ',', 'and', 'banana', '.', \"don't\", 'you', '?', 'better', 'happili', \"can't\", '#beauti', 'new', 'york', 'citi', '@ask', '12/25', '/', '2022']\n"
     ]
    }
   ],
   "source": [
    "#Porter Stemming\n",
    "from nltk.stem import PorterStemmer\n",
    "porterstemmer = PorterStemmer()\n",
    "stem_words = []\n",
    "for w in tweet_tokenized:\n",
    "    x = porterstemmer.stem(w)\n",
    "    stem_words.append(x)\n",
    "print('Before Potter Stemming')\n",
    "print(tweet_tokenized,'\\n')\n",
    "print('After Potter Stemming')\n",
    "print(stem_words)"
   ]
  },
  {
   "cell_type": "code",
   "execution_count": 12,
   "id": "3c7dab68",
   "metadata": {},
   "outputs": [
    {
     "name": "stdout",
     "output_type": "stream",
     "text": [
      "Before Lemmatization\n",
      "['I', 'love', 'eating', 'apples', ',', 'oranges', ',', 'and', 'bananas', '.', \"Don't\", 'you', '?', 'better', 'happily', \"can't\", '#beautiful', 'new', 'york', 'city', '@ask', '12/25', '/', '2022'] \n",
      "\n",
      "After Lemmatization\n",
      "['I', 'love', 'eating', 'apple', ',', 'orange', ',', 'and', 'banana', '.', \"Don't\", 'you', '?', 'better', 'happily', \"can't\", '#beautiful', 'new', 'york', 'city', '@ask', '12/25', '/', '2022']\n"
     ]
    }
   ],
   "source": [
    "#Lemmatization\n",
    "from nltk.stem import WordNetLemmatizer\n",
    "wordnet_lemmatizer = WordNetLemmatizer()\n",
    "stem_words = []\n",
    "for w in tweet_tokenized:\n",
    "    x = wordnet_lemmatizer.lemmatize(w)\n",
    "    stem_words.append(x)\n",
    "print('Before Lemmatization')\n",
    "print(tweet_tokenized,'\\n')\n",
    "print('After Lemmatization')\n",
    "print(stem_words)\n"
   ]
  },
  {
   "cell_type": "code",
   "execution_count": null,
   "id": "d52cfc2f",
   "metadata": {},
   "outputs": [],
   "source": []
  },
  {
   "cell_type": "code",
   "execution_count": null,
   "id": "edd6c4cf",
   "metadata": {},
   "outputs": [],
   "source": []
  },
  {
   "cell_type": "code",
   "execution_count": null,
   "id": "19accaa8",
   "metadata": {},
   "outputs": [],
   "source": []
  },
  {
   "cell_type": "code",
   "execution_count": 13,
   "id": "81ca4ffb",
   "metadata": {},
   "outputs": [
    {
     "name": "stdout",
     "output_type": "stream",
     "text": [
      "The lemma of 'running' when it's a verb is 'run'\n"
     ]
    },
    {
     "name": "stderr",
     "output_type": "stream",
     "text": [
      "[nltk_data] Downloading package wordnet to\n",
      "[nltk_data]     C:\\Users\\HP\\AppData\\Roaming\\nltk_data...\n",
      "[nltk_data]   Package wordnet is already up-to-date!\n"
     ]
    }
   ],
   "source": [
    "import nltk\n",
    "from nltk.stem import WordNetLemmatizer\n",
    "\n",
    "nltk.download('wordnet')\n",
    "\n",
    "# Initialize lemmatizer\n",
    "lemmatizer = WordNetLemmatizer()\n",
    "\n",
    "# Lemmatize a word with context\n",
    "word = \"running\"\n",
    "lemma = lemmatizer.lemmatize(word, pos='v')  # Verb\n",
    "print(f\"The lemma of '{word}' when it's a verb is '{lemma}'\")\n"
   ]
  },
  {
   "cell_type": "code",
   "execution_count": null,
   "id": "6e3fddf8",
   "metadata": {},
   "outputs": [],
   "source": []
  }
 ],
 "metadata": {
  "kernelspec": {
   "display_name": "Python 3 (ipykernel)",
   "language": "python",
   "name": "python3"
  },
  "language_info": {
   "codemirror_mode": {
    "name": "ipython",
    "version": 3
   },
   "file_extension": ".py",
   "mimetype": "text/x-python",
   "name": "python",
   "nbconvert_exporter": "python",
   "pygments_lexer": "ipython3",
   "version": "3.10.10"
  }
 },
 "nbformat": 4,
 "nbformat_minor": 5
}
