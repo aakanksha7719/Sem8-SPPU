{
 "cells": [
  {
   "cell_type": "code",
   "execution_count": 7,
   "id": "549c958e",
   "metadata": {},
   "outputs": [
    {
     "name": "stdout",
     "output_type": "stream",
     "text": [
      "Bag of Words (count occurrence):\n",
      " [[0 0 1 0 0 1 0 1 0 0]\n",
      " [0 0 0 0 1 0 0 0 1 0]\n",
      " [0 0 0 1 0 0 0 0 0 1]\n",
      " [1 1 0 0 1 1 1 0 0 0]]\n"
     ]
    }
   ],
   "source": [
    "from sklearn.feature_extraction.text import CountVectorizer\n",
    "\n",
    "# Sample documents\n",
    "documents = [\"Dog barks loudly\", \"Cat meows\", \"Bird sings\", \"Dog and cat are friends\"]\n",
    "\n",
    "# Initialize CountVectorizer\n",
    "vectorizer = CountVectorizer()\n",
    "\n",
    "# Fit and transform documents\n",
    "BoW_matrix = vectorizer.fit_transform(documents)\n",
    "\n",
    "# Convert BoW matrix to array\n",
    "print(\"Bag of Words (count occurrence):\\n\", BoW_matrix.toarray())\n"
   ]
  },
  {
   "cell_type": "code",
   "execution_count": 11,
   "id": "ec8768e4",
   "metadata": {},
   "outputs": [
    {
     "name": "stdout",
     "output_type": "stream",
     "text": [
      "\n",
      "Bag-of-Words (Normalized count occurrence):\n",
      "[[0.         0.         0.57735027 0.         0.         0.57735027\n",
      "  0.         0.57735027 0.         0.        ]\n",
      " [0.         0.         0.         0.         0.70710678 0.\n",
      "  0.         0.         0.70710678 0.        ]\n",
      " [0.         0.         0.         0.70710678 0.         0.\n",
      "  0.         0.         0.         0.70710678]\n",
      " [0.4472136  0.4472136  0.         0.         0.4472136  0.4472136\n",
      "  0.4472136  0.         0.         0.        ]]\n"
     ]
    }
   ],
   "source": [
    "import numpy as np\n",
    "\n",
    "# Normalized count occurrence\n",
    "bow_matrix_dense = BoW_matrix.toarray()\n",
    "norms = np.linalg.norm(bow_matrix_dense, axis=1)\n",
    "normalized_bow_matrix = bow_matrix_dense / norms[:, None]\n",
    "\n",
    "print(\"\\nBag-of-Words (Normalized count occurrence):\")\n",
    "print(normalized_bow_matrix)\n"
   ]
  },
  {
   "cell_type": "code",
   "execution_count": 2,
   "id": "6f1d80b8",
   "metadata": {},
   "outputs": [
    {
     "name": "stdout",
     "output_type": "stream",
     "text": [
      "TF-IDF Matrix:\n",
      " [[0.         0.         0.61761437 0.         0.         0.48693426\n",
      "  0.         0.61761437 0.         0.        ]\n",
      " [0.         0.         0.         0.         0.6191303  0.\n",
      "  0.         0.         0.78528828 0.        ]\n",
      " [0.         0.         0.         0.70710678 0.         0.\n",
      "  0.         0.         0.         0.70710678]\n",
      " [0.48546061 0.48546061 0.         0.         0.38274272 0.38274272\n",
      "  0.48546061 0.         0.         0.        ]]\n"
     ]
    }
   ],
   "source": [
    "from sklearn.feature_extraction.text import TfidfVectorizer\n",
    "\n",
    "# Initialize TfidfVectorizer\n",
    "tfidf_vectorizer = TfidfVectorizer()\n",
    "\n",
    "# Fit and transform documents\n",
    "tfidf_matrix = tfidf_vectorizer.fit_transform(documents)\n",
    "\n",
    "# Convert TF-IDF matrix to array\n",
    "print(\"TF-IDF Matrix:\\n\", tfidf_matrix.toarray())\n"
   ]
  },
  {
   "cell_type": "code",
   "execution_count": 6,
   "id": "9c8124db",
   "metadata": {},
   "outputs": [
    {
     "name": "stdout",
     "output_type": "stream",
     "text": [
      "Vector for 'dog':\n",
      " [-5.3622725e-04  2.3643136e-04  5.1033497e-03  9.0092728e-03\n",
      " -9.3029495e-03 -7.1168090e-03  6.4588725e-03  8.9729885e-03\n",
      " -5.0154282e-03 -3.7633716e-03  7.3805046e-03 -1.5334714e-03\n",
      " -4.5366134e-03  6.5540518e-03 -4.8601604e-03 -1.8160177e-03\n",
      "  2.8765798e-03  9.9187379e-04 -8.2852151e-03 -9.4488179e-03\n",
      "  7.3117660e-03  5.0702621e-03  6.7576934e-03  7.6286553e-04\n",
      "  6.3508903e-03 -3.4053659e-03 -9.4640139e-04  5.7685734e-03\n",
      " -7.5216377e-03 -3.9361035e-03 -7.5115822e-03 -9.3004224e-04\n",
      "  9.5381187e-03 -7.3191668e-03 -2.3337686e-03 -1.9377411e-03\n",
      "  8.0774371e-03 -5.9308959e-03  4.5162440e-05 -4.7537340e-03\n",
      " -9.6035507e-03  5.0072931e-03 -8.7595852e-03 -4.3918253e-03\n",
      " -3.5099984e-05 -2.9618145e-04 -7.6612402e-03  9.6147433e-03\n",
      "  4.9820580e-03  9.2331432e-03 -8.1579173e-03  4.4957981e-03\n",
      " -4.1370760e-03  8.2453608e-04  8.4986202e-03 -4.4621765e-03\n",
      "  4.5175003e-03 -6.7869602e-03 -3.5484887e-03  9.3985079e-03\n",
      " -1.5776526e-03  3.2137157e-04 -4.1406299e-03 -7.6826881e-03\n",
      " -1.5080082e-03  2.4697948e-03 -8.8802696e-04  5.5336617e-03\n",
      " -2.7429771e-03  2.2600652e-03  5.4557943e-03  8.3459532e-03\n",
      " -1.4537406e-03 -9.2081428e-03  4.3705525e-03  5.7178497e-04\n",
      "  7.4419081e-03 -8.1328274e-04 -2.6384138e-03 -8.7530091e-03\n",
      " -8.5655687e-04  2.8265631e-03  5.4014288e-03  7.0526563e-03\n",
      " -5.7031214e-03  1.8588197e-03  6.0888636e-03 -4.7980510e-03\n",
      " -3.1072604e-03  6.7976294e-03  1.6314756e-03  1.8991709e-04\n",
      "  3.4736372e-03  2.1777749e-04  9.6188262e-03  5.0606038e-03\n",
      " -8.9173904e-03 -7.0415605e-03  9.0145587e-04  6.3925339e-03]\n"
     ]
    }
   ],
   "source": [
    "from gensim.models import Word2Vec\n",
    "\n",
    "# Tokenized sentences\n",
    "sentences = [doc.split() for doc in documents]\n",
    "\n",
    "# Train a Word2Vec model\n",
    "model = Word2Vec(sentences, vector_size=100, window=5, min_count=1, workers=2)\n",
    "\n",
    "# Get the vector for a word\n",
    "vector = model.wv['Dog']\n",
    "print(\"Vector for 'dog':\\n\", vector)\n"
   ]
  },
  {
   "cell_type": "code",
   "execution_count": null,
   "id": "11973e62",
   "metadata": {},
   "outputs": [],
   "source": []
  }
 ],
 "metadata": {
  "kernelspec": {
   "display_name": "Python 3 (ipykernel)",
   "language": "python",
   "name": "python3"
  },
  "language_info": {
   "codemirror_mode": {
    "name": "ipython",
    "version": 3
   },
   "file_extension": ".py",
   "mimetype": "text/x-python",
   "name": "python",
   "nbconvert_exporter": "python",
   "pygments_lexer": "ipython3",
   "version": "3.10.10"
  }
 },
 "nbformat": 4,
 "nbformat_minor": 5
}
