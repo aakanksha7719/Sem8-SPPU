{
 "cells": [
  {
   "cell_type": "code",
   "execution_count": 1,
   "id": "8fc288ed",
   "metadata": {},
   "outputs": [],
   "source": [
    "import pandas as pd\n",
    "import matplotlib.pyplot as plt\n",
    "import numpy as np"
   ]
  },
  {
   "cell_type": "markdown",
   "id": "7a8b11c3",
   "metadata": {},
   "source": [
    "### Loading the dataset"
   ]
  },
  {
   "cell_type": "code",
   "execution_count": 2,
   "id": "23a46ab1",
   "metadata": {},
   "outputs": [
    {
     "name": "stdout",
     "output_type": "stream",
     "text": [
      "<class 'pandas.core.frame.DataFrame'>\n",
      "RangeIndex: 1258 entries, 0 to 1257\n",
      "Data columns (total 6 columns):\n",
      " #   Column  Non-Null Count  Dtype  \n",
      "---  ------  --------------  -----  \n",
      " 0   Date    1258 non-null   object \n",
      " 1   Open    1258 non-null   float64\n",
      " 2   High    1258 non-null   float64\n",
      " 3   Low     1258 non-null   float64\n",
      " 4   Close   1258 non-null   object \n",
      " 5   Volume  1258 non-null   object \n",
      "dtypes: float64(3), object(3)\n",
      "memory usage: 59.1+ KB\n"
     ]
    }
   ],
   "source": [
    "train_df = pd.read_csv('Google_Stock_Price_Train.csv')\n",
    "train_df.info()"
   ]
  },
  {
   "cell_type": "code",
   "execution_count": 3,
   "id": "352c10f3-0411-4857-b7f9-7f2eca10f473",
   "metadata": {},
   "outputs": [
    {
     "data": {
      "text/html": [
       "<div>\n",
       "<style scoped>\n",
       "    .dataframe tbody tr th:only-of-type {\n",
       "        vertical-align: middle;\n",
       "    }\n",
       "\n",
       "    .dataframe tbody tr th {\n",
       "        vertical-align: top;\n",
       "    }\n",
       "\n",
       "    .dataframe thead th {\n",
       "        text-align: right;\n",
       "    }\n",
       "</style>\n",
       "<table border=\"1\" class=\"dataframe\">\n",
       "  <thead>\n",
       "    <tr style=\"text-align: right;\">\n",
       "      <th></th>\n",
       "      <th>Date</th>\n",
       "      <th>Open</th>\n",
       "      <th>High</th>\n",
       "      <th>Low</th>\n",
       "      <th>Close</th>\n",
       "      <th>Volume</th>\n",
       "    </tr>\n",
       "  </thead>\n",
       "  <tbody>\n",
       "    <tr>\n",
       "      <th>0</th>\n",
       "      <td>1/3/2012</td>\n",
       "      <td>325.25</td>\n",
       "      <td>332.83</td>\n",
       "      <td>324.97</td>\n",
       "      <td>663.59</td>\n",
       "      <td>7,380,500</td>\n",
       "    </tr>\n",
       "    <tr>\n",
       "      <th>1</th>\n",
       "      <td>1/4/2012</td>\n",
       "      <td>331.27</td>\n",
       "      <td>333.87</td>\n",
       "      <td>329.08</td>\n",
       "      <td>666.45</td>\n",
       "      <td>5,749,400</td>\n",
       "    </tr>\n",
       "    <tr>\n",
       "      <th>2</th>\n",
       "      <td>1/5/2012</td>\n",
       "      <td>329.83</td>\n",
       "      <td>330.75</td>\n",
       "      <td>326.89</td>\n",
       "      <td>657.21</td>\n",
       "      <td>6,590,300</td>\n",
       "    </tr>\n",
       "    <tr>\n",
       "      <th>3</th>\n",
       "      <td>1/6/2012</td>\n",
       "      <td>328.34</td>\n",
       "      <td>328.77</td>\n",
       "      <td>323.68</td>\n",
       "      <td>648.24</td>\n",
       "      <td>5,405,900</td>\n",
       "    </tr>\n",
       "    <tr>\n",
       "      <th>4</th>\n",
       "      <td>1/9/2012</td>\n",
       "      <td>322.04</td>\n",
       "      <td>322.29</td>\n",
       "      <td>309.46</td>\n",
       "      <td>620.76</td>\n",
       "      <td>11,688,800</td>\n",
       "    </tr>\n",
       "  </tbody>\n",
       "</table>\n",
       "</div>"
      ],
      "text/plain": [
       "       Date    Open    High     Low   Close      Volume\n",
       "0  1/3/2012  325.25  332.83  324.97  663.59   7,380,500\n",
       "1  1/4/2012  331.27  333.87  329.08  666.45   5,749,400\n",
       "2  1/5/2012  329.83  330.75  326.89  657.21   6,590,300\n",
       "3  1/6/2012  328.34  328.77  323.68  648.24   5,405,900\n",
       "4  1/9/2012  322.04  322.29  309.46  620.76  11,688,800"
      ]
     },
     "execution_count": 3,
     "metadata": {},
     "output_type": "execute_result"
    }
   ],
   "source": [
    "train_df.head()"
   ]
  },
  {
   "cell_type": "code",
   "execution_count": 4,
   "id": "25f5fba2",
   "metadata": {},
   "outputs": [
    {
     "name": "stdout",
     "output_type": "stream",
     "text": [
      "<class 'pandas.core.frame.DataFrame'>\n",
      "RangeIndex: 20 entries, 0 to 19\n",
      "Data columns (total 6 columns):\n",
      " #   Column  Non-Null Count  Dtype  \n",
      "---  ------  --------------  -----  \n",
      " 0   Date    20 non-null     object \n",
      " 1   Open    20 non-null     float64\n",
      " 2   High    20 non-null     float64\n",
      " 3   Low     20 non-null     float64\n",
      " 4   Close   20 non-null     float64\n",
      " 5   Volume  20 non-null     object \n",
      "dtypes: float64(4), object(2)\n",
      "memory usage: 1.1+ KB\n"
     ]
    }
   ],
   "source": [
    "test_df = pd.read_csv('Google_Stock_Price_Test.csv')\n",
    "test_df.info()"
   ]
  },
  {
   "cell_type": "markdown",
   "id": "0099e4a3",
   "metadata": {},
   "source": [
    "#### Choosing column 'open' for predicition"
   ]
  },
  {
   "cell_type": "code",
   "execution_count": 5,
   "id": "919e13c0",
   "metadata": {},
   "outputs": [
    {
     "data": {
      "text/plain": [
       "(1258, 1)"
      ]
     },
     "execution_count": 5,
     "metadata": {},
     "output_type": "execute_result"
    }
   ],
   "source": [
    "train = train_df.loc[:,[\"Open\"]].values\n",
    "train.shape"
   ]
  },
  {
   "cell_type": "markdown",
   "id": "3f92995d",
   "metadata": {},
   "source": [
    "### Feature Scaling"
   ]
  },
  {
   "cell_type": "code",
   "execution_count": 6,
   "id": "aa770ef9",
   "metadata": {},
   "outputs": [],
   "source": [
    "from sklearn.preprocessing import MinMaxScaler\n",
    "scaler = MinMaxScaler()"
   ]
  },
  {
   "cell_type": "code",
   "execution_count": 7,
   "id": "9e86778f",
   "metadata": {},
   "outputs": [],
   "source": [
    "train_scaled = scaler.fit_transform(train)"
   ]
  },
  {
   "cell_type": "code",
   "execution_count": 8,
   "id": "815c90eb",
   "metadata": {},
   "outputs": [
    {
     "data": {
      "image/png": "[encoded data removed]",
      "text/plain": [
       "<Figure size 640x480 with 1 Axes>"
      ]
     },
     "metadata": {},
     "output_type": "display_data"
    }
   ],
   "source": [
    "plt.plot(train_scaled)\n",
    "plt.ylabel(\"Standardized Values\")\n",
    "plt.xlabel(\"Time->\")\n",
    "plt.show()"
   ]
  },
  {
   "cell_type": "markdown",
   "id": "afd48559",
   "metadata": {},
   "source": [
    "### Create data structure to train model  \n",
    "Taking reference of past 60 days to predict future stock price  \n",
    "x_train will have data of 60 days prior to current date and y_train will have price on current date"
   ]
  },
  {
   "cell_type": "code",
   "execution_count": 9,
   "id": "c2e7aaea",
   "metadata": {},
   "outputs": [],
   "source": [
    "x_train = []\n",
    "y_train = []\n",
    "time = 60\n",
    "for i in range(60,train_scaled.shape[0]):\n",
    "    x_train.append(train_scaled[i-60:i,0])\n",
    "    y_train.append(train_scaled[i,0])\n",
    "x_train = np.array(x_train)\n",
    "y_train = np.array(y_train)"
   ]
  },
  {
   "cell_type": "code",
   "execution_count": 10,
   "id": "d3d50977",
   "metadata": {},
   "outputs": [
    {
     "data": {
      "text/plain": [
       "((1198, 60), (1198,))"
      ]
     },
     "execution_count": 10,
     "metadata": {},
     "output_type": "execute_result"
    }
   ],
   "source": [
    "x_train.shape,y_train.shape"
   ]
  },
  {
   "cell_type": "code",
   "execution_count": 11,
   "id": "49806d76",
   "metadata": {},
   "outputs": [
    {
     "data": {
      "text/plain": [
       "(1198, 60, 1)"
      ]
     },
     "execution_count": 11,
     "metadata": {},
     "output_type": "execute_result"
    }
   ],
   "source": [
    "x_train = np.reshape(x_train,newshape=(x_train.shape[0],x_train.shape[1],1))\n",
    "x_train.shape"
   ]
  },
  {
   "cell_type": "markdown",
   "id": "2db3dac7",
   "metadata": {},
   "source": [
    "### Build model"
   ]
  },
  {
   "cell_type": "code",
   "execution_count": 12,
   "id": "302ed403",
   "metadata": {},
   "outputs": [],
   "source": [
    "from keras.models import Sequential\n",
    "from keras.layers import Dense, SimpleRNN,Dropout"
   ]
  },
  {
   "cell_type": "code",
   "execution_count": 13,
   "id": "860d847d",
   "metadata": {},
   "outputs": [
    {
     "name": "stdout",
     "output_type": "stream",
     "text": [
      "Model: \"sequential\"\n",
      "_________________________________________________________________\n",
      " Layer (type)                Output Shape              Param #   \n",
      "=================================================================\n",
      " simple_rnn (SimpleRNN)      (None, 60, 50)            2600      \n",
      "                                                                 \n",
      " dropout (Dropout)           (None, 60, 50)            0         \n",
      "                                                                 \n",
      " simple_rnn_1 (SimpleRNN)    (None, 60, 50)            5050      \n",
      "                                                                 \n",
      " dropout_1 (Dropout)         (None, 60, 50)            0         \n",
      "                                                                 \n",
      " simple_rnn_2 (SimpleRNN)    (None, 60, 50)            5050      \n",
      "                                                                 \n",
      " dropout_2 (Dropout)         (None, 60, 50)            0         \n",
      "                                                                 \n",
      " simple_rnn_3 (SimpleRNN)    (None, 50)                5050      \n",
      "                                                                 \n",
      " dropout_3 (Dropout)         (None, 50)                0         \n",
      "                                                                 \n",
      " dense (Dense)               (None, 1)                 51        \n",
      "                                                                 \n",
      "=================================================================\n",
      "Total params: 17801 (69.54 KB)\n",
      "Trainable params: 17801 (69.54 KB)\n",
      "Non-trainable params: 0 (0.00 Byte)\n",
      "_________________________________________________________________\n"
     ]
    }
   ],
   "source": [
    "model = Sequential()\n",
    "\n",
    "model.add(SimpleRNN(units=50,activation = \"tanh\", return_sequences = True, input_shape = (x_train.shape[1], 1)))\n",
    "model.add(Dropout(0.2))\n",
    "\n",
    "model.add(SimpleRNN(units=50,activation = \"tanh\", return_sequences = True))\n",
    "model.add(Dropout(0.2))\n",
    "\n",
    "model.add(SimpleRNN(units=50,activation = \"tanh\", return_sequences = True))\n",
    "model.add(Dropout(0.2))\n",
    "\n",
    "model.add(SimpleRNN(units=50))\n",
    "model.add(Dropout(0.2))\n",
    "\n",
    "model.add(Dense(units=1))\n",
    "\n",
    "model.compile(optimizer='adam',loss='mse')\n",
    "model.summary()"
   ]
  },
  {
   "cell_type": "code",
   "execution_count": 14,
   "id": "d807b7de",
   "metadata": {},
   "outputs": [
    {
     "name": "stdout",
     "output_type": "stream",
     "text": [
      "Epoch 1/200\n",
      "38/38 [==============================] - 9s 127ms/step - loss: 0.4703 - val_loss: 0.0068\n",
      "Epoch 2/200\n",
      "38/38 [==============================] - 4s 98ms/step - loss: 0.2760 - val_loss: 0.0100\n",
      "Epoch 3/200\n",
      "38/38 [==============================] - 4s 96ms/step - loss: 0.1828 - val_loss: 0.0177\n",
      "Epoch 4/200\n",
      "38/38 [==============================] - 4s 98ms/step - loss: 0.1391 - val_loss: 0.0020\n",
      "Epoch 5/200\n",
      "38/38 [==============================] - 4s 98ms/step - loss: 0.1133 - val_loss: 0.0029\n",
      "Epoch 6/200\n",
      "38/38 [==============================] - 4s 98ms/step - loss: 0.0981 - val_loss: 0.0369\n",
      "Epoch 7/200\n",
      "38/38 [==============================] - 4s 97ms/step - loss: 0.0818 - val_loss: 0.0079\n",
      "Epoch 8/200\n",
      "38/38 [==============================] - 4s 96ms/step - loss: 0.0644 - val_loss: 0.0286\n",
      "Epoch 9/200\n",
      "38/38 [==============================] - 4s 97ms/step - loss: 0.0535 - val_loss: 0.0122\n",
      "Epoch 10/200\n",
      "38/38 [==============================] - 4s 95ms/step - loss: 0.0482 - val_loss: 0.0337\n",
      "Epoch 11/200\n",
      "38/38 [==============================] - 4s 96ms/step - loss: 0.0457 - val_loss: 0.0096\n",
      "Epoch 12/200\n",
      "38/38 [==============================] - 4s 96ms/step - loss: 0.0344 - val_loss: 0.0308\n",
      "Epoch 13/200\n",
      "38/38 [==============================] - 4s 97ms/step - loss: 0.0327 - val_loss: 0.0078\n",
      "Epoch 14/200\n",
      "38/38 [==============================] - 4s 98ms/step - loss: 0.0299 - val_loss: 0.0163\n",
      "Epoch 15/200\n",
      "38/38 [==============================] - 4s 98ms/step - loss: 0.0230 - val_loss: 0.0182\n",
      "Epoch 16/200\n",
      "38/38 [==============================] - 4s 97ms/step - loss: 0.0233 - val_loss: 0.0123\n",
      "Epoch 17/200\n",
      "38/38 [==============================] - 4s 96ms/step - loss: 0.0210 - val_loss: 0.0144\n",
      "Epoch 18/200\n",
      "38/38 [==============================] - 4s 98ms/step - loss: 0.0192 - val_loss: 0.0116\n",
      "Epoch 19/200\n",
      "38/38 [==============================] - 4s 97ms/step - loss: 0.0187 - val_loss: 0.0063\n",
      "Epoch 20/200\n",
      "38/38 [==============================] - 4s 97ms/step - loss: 0.0154 - val_loss: 0.0056\n",
      "Epoch 21/200\n",
      "38/38 [==============================] - 4s 97ms/step - loss: 0.0165 - val_loss: 0.0035\n",
      "Epoch 22/200\n",
      "38/38 [==============================] - 4s 97ms/step - loss: 0.0156 - val_loss: 0.0106\n",
      "Epoch 23/200\n",
      "38/38 [==============================] - 4s 97ms/step - loss: 0.0141 - val_loss: 0.0076\n",
      "Epoch 24/200\n",
      "38/38 [==============================] - 4s 98ms/step - loss: 0.0116 - val_loss: 0.0111\n",
      "Epoch 25/200\n",
      "38/38 [==============================] - 4s 96ms/step - loss: 0.0108 - val_loss: 0.0031\n",
      "Epoch 26/200\n",
      "38/38 [==============================] - 4s 97ms/step - loss: 0.0110 - val_loss: 0.0081\n",
      "Epoch 27/200\n",
      "38/38 [==============================] - 4s 96ms/step - loss: 0.0106 - val_loss: 0.0035\n",
      "Epoch 28/200\n",
      "38/38 [==============================] - 4s 97ms/step - loss: 0.0099 - val_loss: 0.0057\n",
      "Epoch 29/200\n",
      "38/38 [==============================] - 4s 97ms/step - loss: 0.0091 - val_loss: 0.0027\n",
      "Epoch 30/200\n",
      "38/38 [==============================] - 4s 97ms/step - loss: 0.0106 - val_loss: 0.0094\n",
      "Epoch 31/200\n",
      "38/38 [==============================] - 4s 97ms/step - loss: 0.0090 - val_loss: 0.0045\n",
      "Epoch 32/200\n",
      "38/38 [==============================] - 4s 100ms/step - loss: 0.0074 - val_loss: 0.0028\n",
      "Epoch 33/200\n",
      "38/38 [==============================] - 4s 98ms/step - loss: 0.0075 - val_loss: 0.0045\n",
      "Epoch 34/200\n",
      "38/38 [==============================] - 4s 96ms/step - loss: 0.0061 - val_loss: 0.0048\n",
      "Epoch 35/200\n",
      "38/38 [==============================] - 4s 97ms/step - loss: 0.0075 - val_loss: 7.5589e-04\n",
      "Epoch 36/200\n",
      "38/38 [==============================] - 4s 97ms/step - loss: 0.0065 - val_loss: 0.0015\n",
      "Epoch 37/200\n",
      "38/38 [==============================] - 4s 97ms/step - loss: 0.0069 - val_loss: 0.0021\n",
      "Epoch 38/200\n",
      "38/38 [==============================] - 4s 98ms/step - loss: 0.0063 - val_loss: 0.0025\n",
      "Epoch 39/200\n",
      "38/38 [==============================] - 4s 96ms/step - loss: 0.0057 - val_loss: 0.0038\n",
      "Epoch 40/200\n",
      "38/38 [==============================] - 4s 96ms/step - loss: 0.0055 - val_loss: 0.0064\n",
      "Epoch 41/200\n",
      "38/38 [==============================] - 4s 97ms/step - loss: 0.0054 - val_loss: 0.0027\n",
      "Epoch 42/200\n",
      "38/38 [==============================] - 4s 95ms/step - loss: 0.0052 - val_loss: 0.0028\n",
      "Epoch 43/200\n",
      "38/38 [==============================] - 4s 97ms/step - loss: 0.0051 - val_loss: 0.0036\n",
      "Epoch 44/200\n",
      "38/38 [==============================] - 4s 97ms/step - loss: 0.0050 - val_loss: 0.0012\n",
      "Epoch 45/200\n",
      "38/38 [==============================] - 4s 98ms/step - loss: 0.0045 - val_loss: 0.0040\n",
      "Epoch 46/200\n",
      "38/38 [==============================] - 4s 96ms/step - loss: 0.0045 - val_loss: 0.0018\n",
      "Epoch 47/200\n",
      "38/38 [==============================] - 4s 97ms/step - loss: 0.0046 - val_loss: 6.7652e-04\n",
      "Epoch 48/200\n",
      "38/38 [==============================] - 4s 96ms/step - loss: 0.0043 - val_loss: 0.0014\n",
      "Epoch 49/200\n",
      "38/38 [==============================] - 4s 96ms/step - loss: 0.0044 - val_loss: 0.0024\n",
      "Epoch 50/200\n",
      "38/38 [==============================] - 4s 99ms/step - loss: 0.0041 - val_loss: 0.0017\n",
      "Epoch 51/200\n",
      "38/38 [==============================] - 4s 96ms/step - loss: 0.0040 - val_loss: 0.0038\n",
      "Epoch 52/200\n",
      "38/38 [==============================] - 4s 97ms/step - loss: 0.0038 - val_loss: 0.0017\n",
      "Epoch 53/200\n",
      "38/38 [==============================] - 4s 97ms/step - loss: 0.0039 - val_loss: 0.0015\n",
      "Epoch 54/200\n",
      "38/38 [==============================] - 4s 97ms/step - loss: 0.0039 - val_loss: 6.6769e-04\n",
      "Epoch 55/200\n",
      "38/38 [==============================] - 4s 95ms/step - loss: 0.0035 - val_loss: 0.0017\n",
      "Epoch 56/200\n",
      "38/38 [==============================] - 4s 96ms/step - loss: 0.0036 - val_loss: 0.0013\n",
      "Epoch 57/200\n",
      "38/38 [==============================] - 4s 97ms/step - loss: 0.0034 - val_loss: 0.0019\n",
      "Epoch 58/200\n",
      "38/38 [==============================] - 4s 97ms/step - loss: 0.0033 - val_loss: 6.5975e-04\n",
      "Epoch 59/200\n",
      "38/38 [==============================] - 4s 97ms/step - loss: 0.0030 - val_loss: 0.0013\n",
      "Epoch 60/200\n",
      "38/38 [==============================] - 4s 96ms/step - loss: 0.0033 - val_loss: 6.0035e-04\n",
      "Epoch 61/200\n",
      "38/38 [==============================] - 4s 96ms/step - loss: 0.0032 - val_loss: 0.0018\n",
      "Epoch 62/200\n",
      "38/38 [==============================] - 4s 99ms/step - loss: 0.0032 - val_loss: 0.0012\n",
      "Epoch 63/200\n",
      "38/38 [==============================] - 4s 97ms/step - loss: 0.0032 - val_loss: 8.3174e-04\n",
      "Epoch 64/200\n",
      "38/38 [==============================] - 4s 97ms/step - loss: 0.0034 - val_loss: 6.4181e-04\n",
      "Epoch 65/200\n",
      "38/38 [==============================] - 4s 96ms/step - loss: 0.0029 - val_loss: 0.0012\n",
      "Epoch 66/200\n",
      "38/38 [==============================] - 4s 98ms/step - loss: 0.0029 - val_loss: 5.9920e-04\n",
      "Epoch 67/200\n",
      "38/38 [==============================] - 2s 55ms/step - loss: 0.0030 - val_loss: 0.0017\n",
      "Epoch 68/200\n",
      "38/38 [==============================] - 2s 55ms/step - loss: 0.0031 - val_loss: 9.4489e-04\n",
      "Epoch 69/200\n",
      "38/38 [==============================] - 2s 51ms/step - loss: 0.0027 - val_loss: 8.4100e-04\n",
      "Epoch 70/200\n",
      "38/38 [==============================] - 2s 60ms/step - loss: 0.0030 - val_loss: 5.9283e-04\n",
      "Epoch 71/200\n",
      "38/38 [==============================] - 3s 68ms/step - loss: 0.0027 - val_loss: 6.4447e-04\n",
      "Epoch 72/200\n",
      "38/38 [==============================] - 2s 64ms/step - loss: 0.0026 - val_loss: 8.8644e-04\n",
      "Epoch 73/200\n",
      "38/38 [==============================] - 2s 57ms/step - loss: 0.0027 - val_loss: 6.4685e-04\n",
      "Epoch 74/200\n",
      "38/38 [==============================] - 2s 61ms/step - loss: 0.0028 - val_loss: 5.8837e-04\n",
      "Epoch 75/200\n",
      "38/38 [==============================] - 2s 57ms/step - loss: 0.0029 - val_loss: 8.9766e-04\n",
      "Epoch 76/200\n",
      "38/38 [==============================] - 2s 57ms/step - loss: 0.0025 - val_loss: 8.1681e-04\n",
      "Epoch 77/200\n",
      "38/38 [==============================] - 2s 55ms/step - loss: 0.0027 - val_loss: 8.1942e-04\n",
      "Epoch 78/200\n",
      "38/38 [==============================] - 2s 62ms/step - loss: 0.0027 - val_loss: 6.8649e-04\n",
      "Epoch 79/200\n",
      "38/38 [==============================] - 2s 62ms/step - loss: 0.0026 - val_loss: 8.3020e-04\n",
      "Epoch 80/200\n",
      "38/38 [==============================] - 2s 48ms/step - loss: 0.0025 - val_loss: 6.1317e-04\n",
      "Epoch 81/200\n",
      "38/38 [==============================] - 2s 62ms/step - loss: 0.0023 - val_loss: 8.1880e-04\n",
      "Epoch 82/200\n",
      "38/38 [==============================] - 2s 63ms/step - loss: 0.0023 - val_loss: 6.8248e-04\n",
      "Epoch 83/200\n",
      "38/38 [==============================] - 2s 62ms/step - loss: 0.0024 - val_loss: 5.9732e-04\n",
      "Epoch 84/200\n",
      "38/38 [==============================] - 2s 62ms/step - loss: 0.0023 - val_loss: 5.9872e-04\n",
      "Epoch 85/200\n",
      "38/38 [==============================] - 2s 64ms/step - loss: 0.0024 - val_loss: 0.0012\n",
      "Epoch 86/200\n",
      "38/38 [==============================] - 3s 66ms/step - loss: 0.0025 - val_loss: 0.0015\n",
      "Epoch 87/200\n",
      "38/38 [==============================] - 2s 62ms/step - loss: 0.0023 - val_loss: 0.0011\n",
      "Epoch 88/200\n",
      "38/38 [==============================] - 3s 67ms/step - loss: 0.0025 - val_loss: 7.7939e-04\n",
      "Epoch 89/200\n",
      "38/38 [==============================] - 3s 66ms/step - loss: 0.0025 - val_loss: 7.0024e-04\n",
      "Epoch 90/200\n",
      "38/38 [==============================] - 2s 62ms/step - loss: 0.0021 - val_loss: 6.8327e-04\n",
      "Epoch 91/200\n",
      "38/38 [==============================] - 2s 64ms/step - loss: 0.0021 - val_loss: 9.1399e-04\n",
      "Epoch 92/200\n",
      "38/38 [==============================] - 3s 67ms/step - loss: 0.0023 - val_loss: 5.8626e-04\n",
      "Epoch 93/200\n",
      "38/38 [==============================] - 2s 65ms/step - loss: 0.0018 - val_loss: 6.0139e-04\n",
      "Epoch 94/200\n",
      "38/38 [==============================] - 2s 63ms/step - loss: 0.0022 - val_loss: 6.1442e-04\n",
      "Epoch 95/200\n",
      "38/38 [==============================] - 2s 63ms/step - loss: 0.0019 - val_loss: 7.2508e-04\n",
      "Epoch 96/200\n",
      "38/38 [==============================] - 3s 67ms/step - loss: 0.0021 - val_loss: 6.0624e-04\n",
      "Epoch 97/200\n",
      "38/38 [==============================] - 3s 67ms/step - loss: 0.0021 - val_loss: 6.4733e-04\n",
      "Epoch 98/200\n",
      "38/38 [==============================] - 2s 62ms/step - loss: 0.0020 - val_loss: 6.7828e-04\n",
      "Epoch 99/200\n",
      "38/38 [==============================] - 3s 68ms/step - loss: 0.0019 - val_loss: 5.8654e-04\n",
      "Epoch 100/200\n",
      "38/38 [==============================] - 2s 64ms/step - loss: 0.0019 - val_loss: 7.7129e-04\n",
      "Epoch 101/200\n",
      "38/38 [==============================] - 3s 66ms/step - loss: 0.0020 - val_loss: 5.8422e-04\n",
      "Epoch 102/200\n",
      "38/38 [==============================] - 3s 66ms/step - loss: 0.0018 - val_loss: 6.8270e-04\n",
      "Epoch 103/200\n",
      "38/38 [==============================] - 2s 65ms/step - loss: 0.0021 - val_loss: 9.0676e-04\n",
      "Epoch 104/200\n",
      "38/38 [==============================] - 3s 69ms/step - loss: 0.0021 - val_loss: 0.0018\n",
      "Epoch 105/200\n",
      "38/38 [==============================] - 2s 63ms/step - loss: 0.0018 - val_loss: 6.1451e-04\n",
      "Epoch 106/200\n",
      "38/38 [==============================] - 3s 68ms/step - loss: 0.0019 - val_loss: 5.9217e-04\n",
      "Epoch 107/200\n",
      "38/38 [==============================] - 2s 62ms/step - loss: 0.0021 - val_loss: 7.7692e-04\n",
      "Epoch 108/200\n",
      "38/38 [==============================] - 2s 62ms/step - loss: 0.0019 - val_loss: 7.7220e-04\n",
      "Epoch 109/200\n",
      "38/38 [==============================] - 2s 62ms/step - loss: 0.0019 - val_loss: 0.0011\n",
      "Epoch 110/200\n",
      "38/38 [==============================] - 2s 63ms/step - loss: 0.0021 - val_loss: 6.7997e-04\n",
      "Epoch 111/200\n",
      "38/38 [==============================] - 2s 63ms/step - loss: 0.0020 - val_loss: 8.9437e-04\n",
      "Epoch 112/200\n",
      "38/38 [==============================] - 2s 66ms/step - loss: 0.0019 - val_loss: 7.2092e-04\n",
      "Epoch 113/200\n",
      "38/38 [==============================] - 2s 66ms/step - loss: 0.0017 - val_loss: 7.0120e-04\n",
      "Epoch 114/200\n",
      "38/38 [==============================] - 2s 61ms/step - loss: 0.0016 - val_loss: 8.9448e-04\n",
      "Epoch 115/200\n",
      "38/38 [==============================] - 2s 66ms/step - loss: 0.0017 - val_loss: 9.5236e-04\n",
      "Epoch 116/200\n",
      "38/38 [==============================] - 2s 64ms/step - loss: 0.0017 - val_loss: 5.6962e-04\n",
      "Epoch 117/200\n",
      "38/38 [==============================] - 2s 62ms/step - loss: 0.0017 - val_loss: 6.1980e-04\n",
      "Epoch 118/200\n",
      "38/38 [==============================] - 3s 67ms/step - loss: 0.0017 - val_loss: 6.2835e-04\n",
      "Epoch 119/200\n",
      "38/38 [==============================] - 2s 63ms/step - loss: 0.0019 - val_loss: 6.4780e-04\n",
      "Epoch 120/200\n",
      "38/38 [==============================] - 3s 69ms/step - loss: 0.0016 - val_loss: 0.0013\n",
      "Epoch 121/200\n",
      "38/38 [==============================] - 3s 66ms/step - loss: 0.0017 - val_loss: 6.1609e-04\n",
      "Epoch 122/200\n",
      "38/38 [==============================] - 2s 63ms/step - loss: 0.0018 - val_loss: 8.7975e-04\n",
      "Epoch 123/200\n",
      "38/38 [==============================] - 3s 69ms/step - loss: 0.0016 - val_loss: 8.1545e-04\n",
      "Epoch 124/200\n",
      "38/38 [==============================] - 2s 63ms/step - loss: 0.0015 - val_loss: 7.3782e-04\n",
      "Epoch 125/200\n",
      "38/38 [==============================] - 3s 68ms/step - loss: 0.0016 - val_loss: 7.9737e-04\n",
      "Epoch 126/200\n",
      "38/38 [==============================] - 2s 65ms/step - loss: 0.0015 - val_loss: 7.9816e-04\n",
      "Epoch 127/200\n",
      "38/38 [==============================] - 3s 68ms/step - loss: 0.0016 - val_loss: 0.0023\n",
      "Epoch 128/200\n",
      "38/38 [==============================] - 3s 69ms/step - loss: 0.0015 - val_loss: 5.7519e-04\n",
      "Epoch 129/200\n",
      "38/38 [==============================] - 3s 66ms/step - loss: 0.0015 - val_loss: 6.7355e-04\n",
      "Epoch 130/200\n",
      "38/38 [==============================] - 2s 64ms/step - loss: 0.0014 - val_loss: 0.0015\n",
      "Epoch 131/200\n",
      "38/38 [==============================] - 2s 62ms/step - loss: 0.0016 - val_loss: 5.9104e-04\n",
      "Epoch 132/200\n",
      "38/38 [==============================] - 2s 62ms/step - loss: 0.0015 - val_loss: 7.6355e-04\n",
      "Epoch 133/200\n",
      "38/38 [==============================] - 2s 66ms/step - loss: 0.0015 - val_loss: 0.0011\n",
      "Epoch 134/200\n",
      "38/38 [==============================] - 2s 60ms/step - loss: 0.0015 - val_loss: 5.7798e-04\n",
      "Epoch 135/200\n",
      "38/38 [==============================] - 2s 64ms/step - loss: 0.0015 - val_loss: 6.3233e-04\n",
      "Epoch 136/200\n",
      "38/38 [==============================] - 2s 64ms/step - loss: 0.0015 - val_loss: 7.7238e-04\n",
      "Epoch 137/200\n",
      "38/38 [==============================] - 3s 66ms/step - loss: 0.0017 - val_loss: 0.0042\n",
      "Epoch 138/200\n",
      "38/38 [==============================] - 2s 64ms/step - loss: 0.0016 - val_loss: 8.3700e-04\n",
      "Epoch 139/200\n",
      "38/38 [==============================] - 2s 64ms/step - loss: 0.0015 - val_loss: 5.6981e-04\n",
      "Epoch 140/200\n",
      "38/38 [==============================] - 2s 57ms/step - loss: 0.0015 - val_loss: 8.8479e-04\n",
      "Epoch 141/200\n",
      "38/38 [==============================] - 2s 52ms/step - loss: 0.0019 - val_loss: 5.5577e-04\n",
      "Epoch 142/200\n",
      "38/38 [==============================] - 2s 52ms/step - loss: 0.0014 - val_loss: 0.0011\n",
      "Epoch 143/200\n",
      "38/38 [==============================] - 3s 67ms/step - loss: 0.0014 - val_loss: 0.0014\n",
      "Epoch 144/200\n",
      "38/38 [==============================] - 2s 58ms/step - loss: 0.0015 - val_loss: 0.0015\n",
      "Epoch 145/200\n",
      "38/38 [==============================] - 2s 64ms/step - loss: 0.0014 - val_loss: 8.0940e-04\n",
      "Epoch 146/200\n",
      "38/38 [==============================] - 2s 62ms/step - loss: 0.0014 - val_loss: 0.0012\n",
      "Epoch 147/200\n",
      "38/38 [==============================] - 2s 61ms/step - loss: 0.0016 - val_loss: 6.8553e-04\n",
      "Epoch 148/200\n",
      "38/38 [==============================] - 3s 69ms/step - loss: 0.0016 - val_loss: 0.0020\n",
      "Epoch 149/200\n",
      "38/38 [==============================] - 2s 64ms/step - loss: 0.0018 - val_loss: 6.5611e-04\n",
      "Epoch 150/200\n",
      "38/38 [==============================] - 2s 63ms/step - loss: 0.0013 - val_loss: 8.8691e-04\n",
      "Epoch 151/200\n",
      "38/38 [==============================] - 3s 66ms/step - loss: 0.0014 - val_loss: 6.1155e-04\n",
      "Epoch 152/200\n",
      "38/38 [==============================] - 2s 63ms/step - loss: 0.0014 - val_loss: 0.0029\n",
      "Epoch 153/200\n",
      "38/38 [==============================] - 3s 68ms/step - loss: 0.0014 - val_loss: 6.5176e-04\n",
      "Epoch 154/200\n",
      "38/38 [==============================] - 2s 62ms/step - loss: 0.0015 - val_loss: 0.0018\n",
      "Epoch 155/200\n",
      "38/38 [==============================] - 2s 63ms/step - loss: 0.0014 - val_loss: 5.4454e-04\n",
      "Epoch 156/200\n",
      "38/38 [==============================] - 3s 66ms/step - loss: 0.0015 - val_loss: 6.4380e-04\n",
      "Epoch 157/200\n",
      "38/38 [==============================] - 2s 61ms/step - loss: 0.0013 - val_loss: 6.4682e-04\n",
      "Epoch 158/200\n",
      "38/38 [==============================] - 2s 63ms/step - loss: 0.0015 - val_loss: 0.0022\n",
      "Epoch 159/200\n"
     ]
    },
    {
     "name": "stdout",
     "output_type": "stream",
     "text": [
      "38/38 [==============================] - 2s 64ms/step - loss: 0.0013 - val_loss: 5.5034e-04\n",
      "Epoch 160/200\n",
      "38/38 [==============================] - 3s 69ms/step - loss: 0.0013 - val_loss: 0.0025\n",
      "Epoch 161/200\n",
      "38/38 [==============================] - 2s 63ms/step - loss: 0.0011 - val_loss: 6.3492e-04\n",
      "Epoch 162/200\n",
      "38/38 [==============================] - 3s 67ms/step - loss: 0.0016 - val_loss: 0.0018\n",
      "Epoch 163/200\n",
      "38/38 [==============================] - 3s 73ms/step - loss: 0.0012 - val_loss: 5.1306e-04\n",
      "Epoch 164/200\n",
      "38/38 [==============================] - 3s 67ms/step - loss: 0.0013 - val_loss: 5.5433e-04\n",
      "Epoch 165/200\n",
      "38/38 [==============================] - 2s 57ms/step - loss: 0.0012 - val_loss: 8.2306e-04\n",
      "Epoch 166/200\n",
      "38/38 [==============================] - 3s 65ms/step - loss: 0.0013 - val_loss: 0.0012\n",
      "Epoch 167/200\n",
      "38/38 [==============================] - 767s 21s/step - loss: 0.0013 - val_loss: 0.0016\n",
      "Epoch 168/200\n",
      "38/38 [==============================] - 3s 66ms/step - loss: 0.0012 - val_loss: 7.4540e-04\n",
      "Epoch 169/200\n",
      "38/38 [==============================] - 2s 50ms/step - loss: 0.0012 - val_loss: 6.5755e-04\n",
      "Epoch 170/200\n",
      "38/38 [==============================] - 2s 48ms/step - loss: 0.0012 - val_loss: 0.0021\n",
      "Epoch 171/200\n",
      "38/38 [==============================] - 2s 50ms/step - loss: 0.0014 - val_loss: 5.2931e-04\n",
      "Epoch 172/200\n",
      "38/38 [==============================] - 2s 51ms/step - loss: 0.0011 - val_loss: 6.6176e-04\n",
      "Epoch 173/200\n",
      "38/38 [==============================] - 2s 60ms/step - loss: 0.0012 - val_loss: 5.0571e-04\n",
      "Epoch 174/200\n",
      "38/38 [==============================] - 2s 61ms/step - loss: 0.0011 - val_loss: 8.5751e-04\n",
      "Epoch 175/200\n",
      "38/38 [==============================] - 2s 62ms/step - loss: 0.0012 - val_loss: 7.4807e-04\n",
      "Epoch 176/200\n",
      "38/38 [==============================] - 2s 64ms/step - loss: 0.0011 - val_loss: 4.9038e-04\n",
      "Epoch 177/200\n",
      "38/38 [==============================] - 2s 65ms/step - loss: 0.0012 - val_loss: 0.0012\n",
      "Epoch 178/200\n",
      "38/38 [==============================] - 2s 63ms/step - loss: 0.0011 - val_loss: 8.1267e-04\n",
      "Epoch 179/200\n",
      "38/38 [==============================] - 3s 67ms/step - loss: 0.0011 - val_loss: 6.3893e-04\n",
      "Epoch 180/200\n",
      "38/38 [==============================] - 2s 65ms/step - loss: 0.0012 - val_loss: 5.4182e-04\n",
      "Epoch 181/200\n",
      "38/38 [==============================] - 2s 58ms/step - loss: 0.0012 - val_loss: 5.0037e-04\n",
      "Epoch 182/200\n",
      "38/38 [==============================] - 3s 67ms/step - loss: 0.0013 - val_loss: 0.0020\n",
      "Epoch 183/200\n",
      "38/38 [==============================] - 3s 72ms/step - loss: 0.0012 - val_loss: 5.0679e-04\n",
      "Epoch 184/200\n",
      "38/38 [==============================] - 2s 65ms/step - loss: 0.0011 - val_loss: 0.0010\n",
      "Epoch 185/200\n",
      "38/38 [==============================] - 3s 68ms/step - loss: 0.0012 - val_loss: 8.1148e-04\n",
      "Epoch 186/200\n",
      "38/38 [==============================] - 2s 62ms/step - loss: 0.0012 - val_loss: 9.4039e-04\n",
      "Epoch 187/200\n",
      "38/38 [==============================] - 3s 67ms/step - loss: 0.0011 - val_loss: 0.0026\n",
      "Epoch 188/200\n",
      "38/38 [==============================] - 3s 66ms/step - loss: 0.0011 - val_loss: 0.0014\n",
      "Epoch 189/200\n",
      "38/38 [==============================] - 2s 65ms/step - loss: 0.0011 - val_loss: 6.3902e-04\n",
      "Epoch 190/200\n",
      "38/38 [==============================] - 3s 67ms/step - loss: 0.0011 - val_loss: 5.1470e-04\n",
      "Epoch 191/200\n",
      "38/38 [==============================] - 2s 62ms/step - loss: 0.0011 - val_loss: 5.6115e-04\n",
      "Epoch 192/200\n",
      "38/38 [==============================] - 2s 62ms/step - loss: 0.0012 - val_loss: 5.6035e-04\n",
      "Epoch 193/200\n",
      "38/38 [==============================] - 3s 69ms/step - loss: 0.0011 - val_loss: 5.4161e-04\n",
      "Epoch 194/200\n",
      "38/38 [==============================] - 2s 64ms/step - loss: 0.0010 - val_loss: 5.0277e-04\n",
      "Epoch 195/200\n",
      "38/38 [==============================] - 3s 69ms/step - loss: 0.0011 - val_loss: 7.9033e-04\n",
      "Epoch 196/200\n",
      "38/38 [==============================] - 2s 65ms/step - loss: 0.0012 - val_loss: 0.0017\n",
      "Epoch 197/200\n",
      "38/38 [==============================] - 2s 66ms/step - loss: 0.0011 - val_loss: 6.2957e-04\n",
      "Epoch 198/200\n",
      "38/38 [==============================] - 2s 63ms/step - loss: 0.0011 - val_loss: 0.0012\n",
      "Epoch 199/200\n",
      "38/38 [==============================] - 3s 70ms/step - loss: 0.0011 - val_loss: 7.4008e-04\n",
      "Epoch 200/200\n",
      "38/38 [==============================] - 2s 63ms/step - loss: 0.0012 - val_loss: 8.5786e-04\n"
     ]
    },
    {
     "data": {
      "text/plain": [
       "<keras.src.callbacks.History at 0x27b90da4070>"
      ]
     },
     "execution_count": 14,
     "metadata": {},
     "output_type": "execute_result"
    }
   ],
   "source": [
    "model.fit(x_train,y_train,epochs=200,batch_size=30,validation_split=0.05, verbose = 1)"
   ]
  },
  {
   "cell_type": "markdown",
   "id": "775a544e",
   "metadata": {},
   "source": [
    "### Prepare test dataset"
   ]
  },
  {
   "cell_type": "code",
   "execution_count": 15,
   "id": "ef0e2453",
   "metadata": {},
   "outputs": [],
   "source": [
    "data = pd.concat((train_df['Open'],test_df['Open']),axis=0)"
   ]
  },
  {
   "cell_type": "code",
   "execution_count": 16,
   "id": "923dbaa2",
   "metadata": {},
   "outputs": [
    {
     "data": {
      "text/plain": [
       "(80,)"
      ]
     },
     "execution_count": 16,
     "metadata": {},
     "output_type": "execute_result"
    }
   ],
   "source": [
    "test_input = data.iloc[len(data) - len(test_df) - time : ].values\n",
    "test_input.shape"
   ]
  },
  {
   "cell_type": "code",
   "execution_count": 17,
   "id": "b9135535",
   "metadata": {},
   "outputs": [
    {
     "data": {
      "text/plain": [
       "(80, 1)"
      ]
     },
     "execution_count": 17,
     "metadata": {},
     "output_type": "execute_result"
    }
   ],
   "source": [
    "test_input = test_input.reshape(-1,1)\n",
    "test_input.shape"
   ]
  },
  {
   "cell_type": "code",
   "execution_count": 18,
   "id": "e2cae5d2",
   "metadata": {},
   "outputs": [],
   "source": [
    "test_scaled = scaler.transform(test_input)"
   ]
  },
  {
   "cell_type": "markdown",
   "id": "ff2d1fce",
   "metadata": {},
   "source": [
    "#### Create test data set"
   ]
  },
  {
   "cell_type": "code",
   "execution_count": 19,
   "id": "3b42f414",
   "metadata": {},
   "outputs": [
    {
     "data": {
      "text/plain": [
       "(20, 60)"
      ]
     },
     "execution_count": 19,
     "metadata": {},
     "output_type": "execute_result"
    }
   ],
   "source": [
    "x_test = []\n",
    "for i in range(time,test_scaled.shape[0]):\n",
    "    x_test.append(test_scaled[i - time: i,0 ])\n",
    "x_test = np.array(x_test)\n",
    "x_test.shape"
   ]
  },
  {
   "cell_type": "code",
   "execution_count": 20,
   "id": "9b65f6cb",
   "metadata": {},
   "outputs": [
    {
     "data": {
      "text/plain": [
       "(20, 60, 1)"
      ]
     },
     "execution_count": 20,
     "metadata": {},
     "output_type": "execute_result"
    }
   ],
   "source": [
    "x_test = np.reshape(x_test,newshape=(x_test.shape[0],x_test.shape[1],1))\n",
    "x_test.shape"
   ]
  },
  {
   "cell_type": "code",
   "execution_count": 21,
   "id": "0008a724",
   "metadata": {},
   "outputs": [],
   "source": [
    "y_test = test_df.loc[:,\"Open\"].values"
   ]
  },
  {
   "cell_type": "markdown",
   "id": "4ad54126-3961-49b9-8587-c4e2c9d03c96",
   "metadata": {
    "jp-MarkdownHeadingCollapsed": true
   },
   "source": [
    "Model Prediction"
   ]
  },
  {
   "cell_type": "code",
   "execution_count": 22,
   "id": "99d79639",
   "metadata": {
    "scrolled": true
   },
   "outputs": [
    {
     "name": "stdout",
     "output_type": "stream",
     "text": [
      "1/1 [==============================] - 1s 536ms/step\n"
     ]
    }
   ],
   "source": [
    "y_pred = model.predict(x_test)"
   ]
  },
  {
   "cell_type": "code",
   "execution_count": 23,
   "id": "62f8ac3b",
   "metadata": {},
   "outputs": [],
   "source": [
    "y_pred = scaler.inverse_transform(y_pred)"
   ]
  },
  {
   "cell_type": "code",
   "execution_count": 25,
   "id": "58bf448d",
   "metadata": {},
   "outputs": [
    {
     "name": "stdout",
     "output_type": "stream",
     "text": [
      "RMSE: 12.219014843329726\n"
     ]
    }
   ],
   "source": [
    "from sklearn.metrics import mean_squared_error\n",
    "\n",
    "rmse = np.sqrt(mean_squared_error(y_test, y_pred))\n",
    "print(\"RMSE:\", rmse)"
   ]
  },
  {
   "cell_type": "code",
   "execution_count": 26,
   "id": "7f71b3da",
   "metadata": {},
   "outputs": [
    {
     "data": {
      "image/png": "[encoded data removed]",
      "text/plain": [
       "<Figure size 640x480 with 1 Axes>"
      ]
     },
     "metadata": {},
     "output_type": "display_data"
    }
   ],
   "source": [
    "plt.plot(y_test, color = 'red', label = 'Real price')\n",
    "plt.plot(y_pred, color = 'blue', label = 'Predicted price')\n",
    "\n",
    "plt.title('Google Stock price prediction')\n",
    "plt.xlabel('Time')\n",
    "plt.ylabel('Price')\n",
    "plt.legend()\n",
    "plt.show()"
   ]
  },
  {
   "cell_type": "code",
   "execution_count": null,
   "id": "2acd6276-310b-4dd2-b2ce-9fcdc026991c",
   "metadata": {},
   "outputs": [],
   "source": []
  },
  {
   "cell_type": "code",
   "execution_count": null,
   "id": "449c328c",
   "metadata": {},
   "outputs": [],
   "source": []
  },
  {
   "cell_type": "code",
   "execution_count": null,
   "id": "944de9ac",
   "metadata": {},
   "outputs": [],
   "source": []
  },
  {
   "cell_type": "code",
   "execution_count": null,
   "id": "284b25b0",
   "metadata": {},
   "outputs": [],
   "source": []
  },
  {
   "cell_type": "code",
   "execution_count": null,
   "id": "fb90878d",
   "metadata": {},
   "outputs": [],
   "source": []
  }
 ],
 "metadata": {
  "kernelspec": {
   "display_name": "Python 3 (ipykernel)",
   "language": "python",
   "name": "python3"
  },
  "language_info": {
   "codemirror_mode": {
    "name": "ipython",
    "version": 3
   },
   "file_extension": ".py",
   "mimetype": "text/x-python",
   "name": "python",
   "nbconvert_exporter": "python",
   "pygments_lexer": "ipython3",
   "version": "3.10.10"
  }
 },
 "nbformat": 4,
 "nbformat_minor": 5
}
