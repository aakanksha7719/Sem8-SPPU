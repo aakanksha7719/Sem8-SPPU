{
 "cells": [
  {
   "cell_type": "code",
   "execution_count": 9,
   "id": "d55a5a0e",
   "metadata": {},
   "outputs": [],
   "source": [
    "### Binary classification movie reviews dataset\n",
    "\n",
    "import numpy as np\n",
    "from tensorflow.keras.datasets import imdb\n",
    "from tensorflow.keras.preprocessing.sequence import pad_sequences #fixed length\n",
    "\n",
    "# Parameters\n",
    "vocab_size = 10000  # Vocabulary size unique words\n",
    "max_len = 500  # Maximum length of review\n",
    "embedding_dim = 32  # Dimension of embedding layer\n",
    "\n",
    "# Load IMDB dataset\n",
    "(train_data, train_labels), (test_data, test_labels) = imdb.load_data(num_words=\n",
    "                                                                      vocab_size)\n",
    "\n",
    "# Padding sequences to the same length\n",
    "\n",
    "test_data = pad_sequences(test_data, maxlen=max_len)\n",
    "\n",
    "# Load the word index dictionary and reverse it for interpretation \n",
    "#mapping from integer indices back to words\n",
    "\n",
    "reverse_word_index = {value + 3: key for key, value in word_index.items()}\n",
    "\n",
    "#reverse_word_index[0] = '<PAD>'\n",
    "#reverse_word_index[1] = '<START>'\n",
    "\n",
    "#reverse_word_index[2] = '<UNK>'\n",
    "#reverse_word_index[3] = '<UNUSED>'"
   ]
  },
  {
   "cell_type": "code",
   "execution_count": 10,
   "id": "964c4cf1",
   "metadata": {},
   "outputs": [
    {
     "name": "stdout",
     "output_type": "stream",
     "text": [
      "Model: \"sequential_1\"\n",
      "_________________________________________________________________\n",
      " Layer (type)                Output Shape              Param #   \n",
      "=================================================================\n",
      " embedding_1 (Embedding)     (None, 500, 32)           320000    \n",
      "                                                                 \n",
      " flatten_1 (Flatten)         (None, 16000)             0         \n",
      "                                                                 \n",
      " dense_2 (Dense)             (None, 256)               4096256   \n",
      "                                                                 \n",
      " dropout_1 (Dropout)         (None, 256)               0         \n",
      "                                                                 \n",
      " dense_3 (Dense)             (None, 1)                 257       \n",
      "                                                                 \n",
      "=================================================================\n",
      "Total params: 4416513 (16.85 MB)\n",
      "Trainable params: 4416513 (16.85 MB)\n",
      "Non-trainable params: 0 (0.00 Byte)\n",
      "_________________________________________________________________\n"
     ]
    }
   ],
   "source": [
    "from tensorflow.keras.models import Sequential\n",
    "from tensorflow.keras.layers import Embedding, Flatten, Dense, Dropout\n",
    "#flatten  convert the input tensor into a one-dimensional tensor\n",
    "\n",
    "model = Sequential()\n",
    "model.add(Embedding(vocab_size, embedding_dim, input_length=max_len))\n",
    "model.add(Flatten())\n",
    "model.add(Dense(256, activation='relu'))\n",
    "model.add(Dropout(0.5))\n",
    "model.add(Dense(1, activation='sigmoid'))  # Sigmoid output for binary classification\n",
    "\n",
    "model.compile(optimizer='adam', loss='binary_crossentropy', metrics=['accuracy'])\n",
    "model.summary()\n"
   ]
  },
  {
   "cell_type": "code",
   "execution_count": 11,
   "id": "59818a09",
   "metadata": {},
   "outputs": [
    {
     "name": "stdout",
     "output_type": "stream",
     "text": [
      "Epoch 1/10\n",
      "157/157 [==============================] - 10s 60ms/step - loss: 0.5196 - accuracy: 0.7082 - val_loss: 0.3015 - val_accuracy: 0.8764\n",
      "Epoch 2/10\n",
      "157/157 [==============================] - 10s 61ms/step - loss: 0.1596 - accuracy: 0.9414 - val_loss: 0.3142 - val_accuracy: 0.8740\n",
      "Epoch 3/10\n",
      "157/157 [==============================] - 13s 84ms/step - loss: 0.0328 - accuracy: 0.9924 - val_loss: 0.3983 - val_accuracy: 0.8736\n",
      "Epoch 4/10\n",
      "157/157 [==============================] - 13s 84ms/step - loss: 0.0063 - accuracy: 0.9996 - val_loss: 0.4516 - val_accuracy: 0.8738\n",
      "Epoch 5/10\n",
      "157/157 [==============================] - 13s 85ms/step - loss: 0.0021 - accuracy: 0.9999 - val_loss: 0.4837 - val_accuracy: 0.8738\n",
      "Epoch 6/10\n",
      "157/157 [==============================] - 13s 84ms/step - loss: 9.9740e-04 - accuracy: 1.0000 - val_loss: 0.5084 - val_accuracy: 0.8728\n",
      "Epoch 7/10\n",
      "157/157 [==============================] - 13s 84ms/step - loss: 6.7519e-04 - accuracy: 1.0000 - val_loss: 0.5278 - val_accuracy: 0.8742\n",
      "Epoch 8/10\n",
      "157/157 [==============================] - 13s 83ms/step - loss: 4.5977e-04 - accuracy: 1.0000 - val_loss: 0.5455 - val_accuracy: 0.8730\n",
      "Epoch 9/10\n",
      "157/157 [==============================] - 13s 84ms/step - loss: 3.4593e-04 - accuracy: 1.0000 - val_loss: 0.5583 - val_accuracy: 0.8740\n",
      "Epoch 10/10\n",
      "157/157 [==============================] - 13s 84ms/step - loss: 2.6174e-04 - accuracy: 1.0000 - val_loss: 0.5705 - val_accuracy: 0.8754\n"
     ]
    }
   ],
   "source": [
    "history = model.fit(train_data, train_labels,\n",
    "                    epochs=10,\n",
    "                    batch_size=128,\n",
    "                    validation_split=0.2)\n"
   ]
  },
  {
   "cell_type": "code",
   "execution_count": 12,
   "id": "4dfcc15e",
   "metadata": {},
   "outputs": [
    {
     "name": "stdout",
     "output_type": "stream",
     "text": [
      "782/782 [==============================] - 8s 10ms/step - loss: 0.5806 - accuracy: 0.8644\n",
      "Test Loss: 0.5806443691253662, Test Accuracy: 0.864359974861145\n"
     ]
    }
   ],
   "source": [
    "results = model.evaluate(test_data, test_labels)\n",
    "print(f\"Test Loss: {results[0]}, Test Accuracy: {results[1]}\")\n"
   ]
  },
  {
   "cell_type": "code",
   "execution_count": 13,
   "id": "569ffcbd",
   "metadata": {},
   "outputs": [
    {
     "name": "stdout",
     "output_type": "stream",
     "text": [
      "Review: ? ? ? ? ? ? ? ? ? ? ? ? ? ? ? ? ? ? ? ? ? ? ? ? ? ? ? ? ? ? ? ? ? ? ? ? ? ? ? ? ? ? ? ? ? ? ? ? ? ? ? ? ? ? ? ? ? ? ? ? ? ? ? ? ? ? ? ? ? ? ? ? ? ? ? ? ? ? ? ? ? ? ? ? ? ? ? ? ? ? ? ? ? ? ? ? ? ? ? ? ? ? ? ? ? ? ? ? ? ? ? ? ? ? ? ? ? ? ? ? ? ? ? ? ? ? ? ? ? ? ? ? ? ? ? ? ? ? ? ? ? ? ? ? ? ? ? ? ? ? ? ? ? ? ? ? ? ? ? ? ? ? ? ? ? ? ? ? ? ? ? ? ? ? ? ? ? ? ? ? ? ? ? ? ? ? ? ? ? ? ? ? ? ? ? ? ? ? ? ? ? ? ? ? ? ? ? ? ? ? ? ? ? ? ? ? ? ? ? ? ? ? ? ? ? ? ? ? ? ? ? ? ? ? ? ? ? ? ? ? ? this film requires a lot of patience because it focuses on mood and character development the plot is very simple and many of the scenes take place on the same set in frances ? the sandy dennis character apartment but the film builds to a disturbing climax br br the characters create an atmosphere ? with sexual tension and psychological ? it's very interesting that robert altman directed this considering the style and structure of his other films still the trademark altman audio style is evident here and there i think what really makes this film work is the brilliant performance by sandy dennis it's definitely one of her darker characters but she plays it so perfectly and convincingly that it's scary michael burns does a good job as the mute young man regular altman player michael murphy has a small part the ? moody set fits the content of the story very well in short this movie is a powerful study of loneliness sexual ? and desperation be patient ? up the atmosphere and pay attention to the wonderfully written script br br i praise robert altman this is one of his many films that deals with unconventional fascinating subject matter this film is disturbing but it's sincere and it's sure to ? a strong emotional response from the viewer if you want to see an unusual film some might even say bizarre this is worth the time br br unfortunately it's very difficult to find in video stores you may have to buy it off the internet\n",
      "1/1 [==============================] - 0s 137ms/step\n",
      "Prediction (0 = negative, 1 = positive): 1.00\n"
     ]
    }
   ],
   "source": [
    "def decode_review(text):\n",
    "    return ' '.join([reverse_word_index.get(i, '?') for i in text])\n",
    "\n",
    "def predict_review(model, review):\n",
    "    decoded_review = decode_review(review)\n",
    "    print(f\"Review: {decoded_review}\")\n",
    "    prediction = model.predict(np.array([review]))\n",
    "    print(\"Prediction (0 = negative, 1 = positive): {:.2f}\".format(prediction[0][0]))\n",
    "\n",
    "# Test with a single review from the test set\n",
    "predict_review(model, test_data[1])\n"
   ]
  },
  {
   "cell_type": "code",
   "execution_count": 14,
   "id": "6c1eaec3",
   "metadata": {},
   "outputs": [
    {
     "name": "stdout",
     "output_type": "stream",
     "text": [
      "782/782 [==============================] - 7s 9ms/step\n",
      "Classification Report:\n",
      "              precision    recall  f1-score   support\n",
      "\n",
      "           0       0.86      0.86      0.86     12500\n",
      "           1       0.86      0.86      0.86     12500\n",
      "\n",
      "    accuracy                           0.86     25000\n",
      "   macro avg       0.86      0.86      0.86     25000\n",
      "weighted avg       0.86      0.86      0.86     25000\n",
      "\n"
     ]
    },
    {
     "data": {
      "image/png": "[encoded data removed]",
      "text/plain": [
       "<Figure size 800x600 with 2 Axes>"
      ]
     },
     "metadata": {},
     "output_type": "display_data"
    }
   ],
   "source": [
    "import numpy as np\n",
    "from sklearn.metrics import classification_report, confusion_matrix\n",
    "import matplotlib.pyplot as plt\n",
    "import seaborn as sns\n",
    "\n",
    "# Function to plot confusion matrix\n",
    "def plot_confusion_matrix(cm, classes):\n",
    "    plt.figure(figsize=(8, 6))\n",
    "    sns.heatmap(cm, annot=True, fmt='d', cmap='Blues', xticklabels=classes, yticklabels=classes)\n",
    "    plt.xlabel('Predicted labels')\n",
    "    plt.ylabel('True labels')\n",
    "    plt.title('Confusion Matrix')\n",
    "    plt.show()\n",
    "\n",
    "# Make predictions on test data\n",
    "predictions = model.predict(test_data)\n",
    "predictions = (predictions > 0.5)  # Convert probabilities to binary\n",
    "\n",
    "# Classification report\n",
    "print(\"Classification Report:\")\n",
    "print(classification_report(test_labels, predictions))\n",
    "\n",
    "\n",
    "# Confusion matrix\n",
    "cm = confusion_matrix(test_labels, predictions)\n",
    "plot_confusion_matrix(cm, classes=['Negative', 'Positive'])\n"
   ]
  },
  {
   "cell_type": "code",
   "execution_count": 15,
   "id": "601070a9",
   "metadata": {},
   "outputs": [
    {
     "name": "stdout",
     "output_type": "stream",
     "text": [
      "[[10809  1691]\n",
      " [ 1700 10800]]\n"
     ]
    }
   ],
   "source": [
    "print(confusion_matrix(test_labels, predictions))"
   ]
  },
  {
   "cell_type": "code",
   "execution_count": null,
   "id": "e5dc4ba5",
   "metadata": {},
   "outputs": [],
   "source": []
  },
  {
   "cell_type": "code",
   "execution_count": null,
   "id": "57ad57c1",
   "metadata": {},
   "outputs": [],
   "source": []
  },
  {
   "cell_type": "code",
   "execution_count": null,
   "id": "9abe4f00",
   "metadata": {},
   "outputs": [],
   "source": []
  }
 ],
 "metadata": {
  "kernelspec": {
   "display_name": "Python 3 (ipykernel)",
   "language": "python",
   "name": "python3"
  },
  "language_info": {
   "codemirror_mode": {
    "name": "ipython",
    "version": 3
   },
   "file_extension": ".py",
   "mimetype": "text/x-python",
   "name": "python",
   "nbconvert_exporter": "python",
   "pygments_lexer": "ipython3",
   "version": "3.10.10"
  }
 },
 "nbformat": 4,
 "nbformat_minor": 5
}
