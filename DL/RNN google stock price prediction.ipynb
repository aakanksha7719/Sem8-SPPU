{
 "cells": [
  {
   "cell_type": "markdown",
   "metadata": {},
   "source": [
    "## Recurrent neural network (RNN)\n",
    "### Google Stock Price Prediction\n"
   ]
  },
  {
   "cell_type": "code",
   "execution_count": 30,
   "metadata": {
    "executionInfo": {
     "elapsed": 12,
     "status": "ok",
     "timestamp": 1682515944713,
     "user": {
      "displayName": "Aryan Pawar",
      "userId": "00492405077873426637"
     },
     "user_tz": -330
    },
    "id": "b0VgXczH5M8S"
   },
   "outputs": [],
   "source": [
    "import numpy as np\n",
    "import pandas as pd\n",
    "import matplotlib.pyplot as plt"
   ]
  },
  {
   "cell_type": "code",
   "execution_count": 31,
   "metadata": {
    "colab": {
     "base_uri": "https://localhost:8080/",
     "height": 73
    },
    "executionInfo": {
     "elapsed": 12081,
     "status": "ok",
     "timestamp": 1682515956783,
     "user": {
      "displayName": "Aryan Pawar",
      "userId": "00492405077873426637"
     },
     "user_tz": -330
    },
    "id": "DbKdgs0E5liV",
    "outputId": "abe3feab-d67a-4594-f810-8e8369796919"
   },
   "outputs": [],
   "source": [
    "df_train = pd.read_csv('trainset.csv')"
   ]
  },
  {
   "cell_type": "code",
   "execution_count": 32,
   "metadata": {
    "colab": {
     "base_uri": "https://localhost:8080/",
     "height": 73
    },
    "executionInfo": {
     "elapsed": 7810,
     "status": "ok",
     "timestamp": 1682515964586,
     "user": {
      "displayName": "Aryan Pawar",
      "userId": "00492405077873426637"
     },
     "user_tz": -330
    },
    "id": "4f1HaHmr6rkt",
    "outputId": "8d7a714b-3081-48ea-a187-867ea36befcb"
   },
   "outputs": [],
   "source": [
    "df_test = pd.read_csv('testset.csv')"
   ]
  },
  {
   "cell_type": "code",
   "execution_count": 33,
   "metadata": {
    "colab": {
     "base_uri": "https://localhost:8080/",
     "height": 206
    },
    "executionInfo": {
     "elapsed": 34,
     "status": "ok",
     "timestamp": 1682515964587,
     "user": {
      "displayName": "Aryan Pawar",
      "userId": "00492405077873426637"
     },
     "user_tz": -330
    },
    "id": "od8h7_l86-tK",
    "outputId": "3b8fa817-2586-490f-9d2f-f7fd379847ff"
   },
   "outputs": [
    {
     "data": {
      "text/html": [
       "<div>\n",
       "<style scoped>\n",
       "    .dataframe tbody tr th:only-of-type {\n",
       "        vertical-align: middle;\n",
       "    }\n",
       "\n",
       "    .dataframe tbody tr th {\n",
       "        vertical-align: top;\n",
       "    }\n",
       "\n",
       "    .dataframe thead th {\n",
       "        text-align: right;\n",
       "    }\n",
       "</style>\n",
       "<table border=\"1\" class=\"dataframe\">\n",
       "  <thead>\n",
       "    <tr style=\"text-align: right;\">\n",
       "      <th></th>\n",
       "      <th>Date</th>\n",
       "      <th>Open</th>\n",
       "      <th>High</th>\n",
       "      <th>Low</th>\n",
       "      <th>Close</th>\n",
       "      <th>Adj Close</th>\n",
       "      <th>Volume</th>\n",
       "    </tr>\n",
       "  </thead>\n",
       "  <tbody>\n",
       "    <tr>\n",
       "      <th>0</th>\n",
       "      <td>2013-01-02</td>\n",
       "      <td>357.385559</td>\n",
       "      <td>361.151062</td>\n",
       "      <td>355.959839</td>\n",
       "      <td>359.288177</td>\n",
       "      <td>359.288177</td>\n",
       "      <td>5115500</td>\n",
       "    </tr>\n",
       "    <tr>\n",
       "      <th>1</th>\n",
       "      <td>2013-01-03</td>\n",
       "      <td>360.122742</td>\n",
       "      <td>363.600128</td>\n",
       "      <td>358.031342</td>\n",
       "      <td>359.496826</td>\n",
       "      <td>359.496826</td>\n",
       "      <td>4666500</td>\n",
       "    </tr>\n",
       "    <tr>\n",
       "      <th>2</th>\n",
       "      <td>2013-01-04</td>\n",
       "      <td>362.313507</td>\n",
       "      <td>368.339294</td>\n",
       "      <td>361.488861</td>\n",
       "      <td>366.600616</td>\n",
       "      <td>366.600616</td>\n",
       "      <td>5562800</td>\n",
       "    </tr>\n",
       "    <tr>\n",
       "      <th>3</th>\n",
       "      <td>2013-01-07</td>\n",
       "      <td>365.348755</td>\n",
       "      <td>367.301056</td>\n",
       "      <td>362.929504</td>\n",
       "      <td>365.001007</td>\n",
       "      <td>365.001007</td>\n",
       "      <td>3332900</td>\n",
       "    </tr>\n",
       "    <tr>\n",
       "      <th>4</th>\n",
       "      <td>2013-01-08</td>\n",
       "      <td>365.393463</td>\n",
       "      <td>365.771027</td>\n",
       "      <td>359.874359</td>\n",
       "      <td>364.280701</td>\n",
       "      <td>364.280701</td>\n",
       "      <td>3373900</td>\n",
       "    </tr>\n",
       "  </tbody>\n",
       "</table>\n",
       "</div>"
      ],
      "text/plain": [
       "         Date        Open        High         Low       Close   Adj Close  \\\n",
       "0  2013-01-02  357.385559  361.151062  355.959839  359.288177  359.288177   \n",
       "1  2013-01-03  360.122742  363.600128  358.031342  359.496826  359.496826   \n",
       "2  2013-01-04  362.313507  368.339294  361.488861  366.600616  366.600616   \n",
       "3  2013-01-07  365.348755  367.301056  362.929504  365.001007  365.001007   \n",
       "4  2013-01-08  365.393463  365.771027  359.874359  364.280701  364.280701   \n",
       "\n",
       "    Volume  \n",
       "0  5115500  \n",
       "1  4666500  \n",
       "2  5562800  \n",
       "3  3332900  \n",
       "4  3373900  "
      ]
     },
     "execution_count": 33,
     "metadata": {},
     "output_type": "execute_result"
    }
   ],
   "source": [
    "df_train.head()"
   ]
  },
  {
   "cell_type": "code",
   "execution_count": 34,
   "metadata": {
    "colab": {
     "base_uri": "https://localhost:8080/"
    },
    "executionInfo": {
     "elapsed": 33,
     "status": "ok",
     "timestamp": 1682515964588,
     "user": {
      "displayName": "Aryan Pawar",
      "userId": "00492405077873426637"
     },
     "user_tz": -330
    },
    "id": "qJDe1-_F7Gx4",
    "outputId": "af475cb5-a200-41d1-c9b8-35f9c31fd4bf"
   },
   "outputs": [
    {
     "data": {
      "text/plain": [
       "array([[ 357.385559],\n",
       "       [ 360.122742],\n",
       "       [ 362.313507],\n",
       "       ...,\n",
       "       [1057.390015],\n",
       "       [1051.599976],\n",
       "       [1046.719971]])"
      ]
     },
     "execution_count": 34,
     "metadata": {},
     "output_type": "execute_result"
    }
   ],
   "source": [
    "trainset = df_train.iloc[:,1:2].values\n",
    "trainset"
   ]
  },
  {
   "cell_type": "code",
   "execution_count": 35,
   "metadata": {
    "colab": {
     "base_uri": "https://localhost:8080/"
    },
    "executionInfo": {
     "elapsed": 16,
     "status": "ok",
     "timestamp": 1682515964588,
     "user": {
      "displayName": "Aryan Pawar",
      "userId": "00492405077873426637"
     },
     "user_tz": -330
    },
    "id": "8_BO4cS87Qv0",
    "outputId": "8c615461-e6b7-492f-b23d-b6b6792743f5"
   },
   "outputs": [
    {
     "data": {
      "text/plain": [
       "array([[0.01011148],\n",
       "       [0.01388614],\n",
       "       [0.01690727],\n",
       "       ...,\n",
       "       [0.97543954],\n",
       "       [0.9674549 ],\n",
       "       [0.96072522]])"
      ]
     },
     "execution_count": 35,
     "metadata": {},
     "output_type": "execute_result"
    }
   ],
   "source": [
    "from sklearn.preprocessing import MinMaxScaler\n",
    "sc = MinMaxScaler(feature_range = (0,1))\n",
    "training_scaled = sc.fit_transform(trainset)\n",
    "training_scaled"
   ]
  },
  {
   "cell_type": "code",
   "execution_count": 36,
   "metadata": {
    "colab": {
     "base_uri": "https://localhost:8080/"
    },
    "executionInfo": {
     "elapsed": 14,
     "status": "ok",
     "timestamp": 1682515964589,
     "user": {
      "displayName": "Aryan Pawar",
      "userId": "00492405077873426637"
     },
     "user_tz": -330
    },
    "id": "6tuSzWtH7az8",
    "outputId": "a35a5bb3-3e2a-4f71-c446-3b7073965da4"
   },
   "outputs": [
    {
     "data": {
      "text/plain": [
       "(1198, 60)"
      ]
     },
     "execution_count": 36,
     "metadata": {},
     "output_type": "execute_result"
    }
   ],
   "source": [
    "x_train = []\n",
    "y_train = []\n",
    "for i in range(60,1258):\n",
    "    x_train.append(training_scaled[i-60:i, 0])\n",
    "    y_train.append(training_scaled[i,0])\n",
    "x_train,y_train = np.array(x_train),np.array(y_train)\n",
    "x_train.shape"
   ]
  },
  {
   "cell_type": "code",
   "execution_count": 37,
   "metadata": {
    "executionInfo": {
     "elapsed": 13,
     "status": "ok",
     "timestamp": 1682515964591,
     "user": {
      "displayName": "Aryan Pawar",
      "userId": "00492405077873426637"
     },
     "user_tz": -330
    },
    "id": "muocg79-7hKi"
   },
   "outputs": [],
   "source": [
    "x_train = np.reshape(x_train, (x_train.shape[0],x_train.shape[1],1))"
   ]
  },
  {
   "cell_type": "code",
   "execution_count": 38,
   "metadata": {
    "executionInfo": {
     "elapsed": 14,
     "status": "ok",
     "timestamp": 1682515964592,
     "user": {
      "displayName": "Aryan Pawar",
      "userId": "00492405077873426637"
     },
     "user_tz": -330
    },
    "id": "y4BHcokw7kcr"
   },
   "outputs": [],
   "source": [
    "from keras.models import Sequential\n",
    "from keras.layers import Dense, LSTM, Dropout"
   ]
  },
  {
   "cell_type": "code",
   "execution_count": 39,
   "metadata": {
    "executionInfo": {
     "elapsed": 15,
     "status": "ok",
     "timestamp": 1682515964594,
     "user": {
      "displayName": "Aryan Pawar",
      "userId": "00492405077873426637"
     },
     "user_tz": -330
    },
    "id": "TmhJFq6f7nwg"
   },
   "outputs": [],
   "source": [
    "regressor = Sequential()\n",
    "regressor.add(LSTM(units = 50,return_sequences = True,input_shape = (x_train.shape[1],1)))"
   ]
  },
  {
   "cell_type": "code",
   "execution_count": 40,
   "metadata": {
    "executionInfo": {
     "elapsed": 749,
     "status": "ok",
     "timestamp": 1682515965329,
     "user": {
      "displayName": "Aryan Pawar",
      "userId": "00492405077873426637"
     },
     "user_tz": -330
    },
    "id": "Yf4Bsuez7pl3"
   },
   "outputs": [],
   "source": [
    "regressor.add(Dropout(0.2))"
   ]
  },
  {
   "cell_type": "code",
   "execution_count": 41,
   "metadata": {
    "executionInfo": {
     "elapsed": 10,
     "status": "ok",
     "timestamp": 1682515965330,
     "user": {
      "displayName": "Aryan Pawar",
      "userId": "00492405077873426637"
     },
     "user_tz": -330
    },
    "id": "yhgo1deq7rN7"
   },
   "outputs": [],
   "source": [
    "regressor.add(LSTM(units = 50,return_sequences = True))\n",
    "regressor.add(Dropout(0.2))"
   ]
  },
  {
   "cell_type": "code",
   "execution_count": 42,
   "metadata": {
    "executionInfo": {
     "elapsed": 11,
     "status": "ok",
     "timestamp": 1682515965331,
     "user": {
      "displayName": "Aryan Pawar",
      "userId": "00492405077873426637"
     },
     "user_tz": -330
    },
    "id": "a-Q94YbK7s-W"
   },
   "outputs": [],
   "source": [
    "regressor.add(LSTM(units = 50,return_sequences = True))\n",
    "regressor.add(Dropout(0.2))"
   ]
  },
  {
   "cell_type": "code",
   "execution_count": 43,
   "metadata": {
    "executionInfo": {
     "elapsed": 10,
     "status": "ok",
     "timestamp": 1682515965331,
     "user": {
      "displayName": "Aryan Pawar",
      "userId": "00492405077873426637"
     },
     "user_tz": -330
    },
    "id": "kwPpBSet7vV7"
   },
   "outputs": [],
   "source": [
    "regressor.add(LSTM(units = 50))\n",
    "regressor.add(Dropout(0.2))"
   ]
  },
  {
   "cell_type": "code",
   "execution_count": 44,
   "metadata": {
    "executionInfo": {
     "elapsed": 10,
     "status": "ok",
     "timestamp": 1682515965332,
     "user": {
      "displayName": "Aryan Pawar",
      "userId": "00492405077873426637"
     },
     "user_tz": -330
    },
    "id": "eN9GKXEP7xTs"
   },
   "outputs": [],
   "source": [
    "regressor.add(Dense(units = 1))"
   ]
  },
  {
   "cell_type": "code",
   "execution_count": 45,
   "metadata": {
    "executionInfo": {
     "elapsed": 10,
     "status": "ok",
     "timestamp": 1682515965332,
     "user": {
      "displayName": "Aryan Pawar",
      "userId": "00492405077873426637"
     },
     "user_tz": -330
    },
    "id": "nchcNPRF7zM9"
   },
   "outputs": [],
   "source": [
    "regressor.compile(optimizer = 'adam',loss = 'mean_squared_error')"
   ]
  },
  {
   "cell_type": "code",
   "execution_count": null,
   "metadata": {
    "colab": {
     "base_uri": "https://localhost:8080/"
    },
    "executionInfo": {
     "elapsed": 388001,
     "status": "ok",
     "timestamp": 1682516353324,
     "user": {
      "displayName": "Aryan Pawar",
      "userId": "00492405077873426637"
     },
     "user_tz": -330
    },
    "id": "QLY8Qa5071G9",
    "outputId": "24f15c31-b671-4407-a90c-3507f036c67d",
    "scrolled": true
   },
   "outputs": [
    {
     "name": "stdout",
     "output_type": "stream",
     "text": [
      "Epoch 1/100\n",
      "38/38 [==============================] - 22s 189ms/step - loss: 0.0286\n",
      "Epoch 2/100\n",
      "38/38 [==============================] - 7s 182ms/step - loss: 0.0049\n",
      "Epoch 3/100\n",
      "38/38 [==============================] - 6s 162ms/step - loss: 0.0039\n",
      "Epoch 4/100\n",
      "38/38 [==============================] - 6s 168ms/step - loss: 0.0037\n",
      "Epoch 5/100\n",
      "38/38 [==============================] - 6s 168ms/step - loss: 0.0036\n",
      "Epoch 6/100\n",
      "38/38 [==============================] - 7s 182ms/step - loss: 0.0035\n",
      "Epoch 7/100\n",
      "38/38 [==============================] - 7s 188ms/step - loss: 0.0030\n",
      "Epoch 8/100\n",
      "38/38 [==============================] - 7s 182ms/step - loss: 0.0033\n",
      "Epoch 9/100\n",
      "38/38 [==============================] - 7s 182ms/step - loss: 0.0032\n",
      "Epoch 10/100\n",
      "38/38 [==============================] - 7s 181ms/step - loss: 0.0032\n",
      "Epoch 11/100\n",
      "38/38 [==============================] - 7s 183ms/step - loss: 0.0028\n",
      "Epoch 12/100\n",
      "38/38 [==============================] - 7s 185ms/step - loss: 0.0030\n",
      "Epoch 13/100\n",
      "38/38 [==============================] - 8s 205ms/step - loss: 0.0035\n",
      "Epoch 14/100\n",
      "38/38 [==============================] - 10s 268ms/step - loss: 0.0035\n",
      "Epoch 15/100\n",
      "38/38 [==============================] - 10s 261ms/step - loss: 0.0027\n",
      "Epoch 16/100\n",
      "38/38 [==============================] - 10s 262ms/step - loss: 0.0028\n",
      "Epoch 17/100\n",
      "32/38 [========================>.....] - ETA: 1s - loss: 0.0028"
     ]
    }
   ],
   "source": [
    "regressor.fit(x_train,y_train,epochs = 100, batch_size = 32)"
   ]
  },
  {
   "cell_type": "code",
   "execution_count": null,
   "metadata": {
    "executionInfo": {
     "elapsed": 45,
     "status": "ok",
     "timestamp": 1682516353325,
     "user": {
      "displayName": "Aryan Pawar",
      "userId": "00492405077873426637"
     },
     "user_tz": -330
    },
    "id": "5TKjaLSB76VT"
   },
   "outputs": [],
   "source": [
    "real_stock_price = df_test.iloc[:,1:2].values"
   ]
  },
  {
   "cell_type": "code",
   "execution_count": null,
   "metadata": {
    "colab": {
     "base_uri": "https://localhost:8080/"
    },
    "executionInfo": {
     "elapsed": 31,
     "status": "ok",
     "timestamp": 1682516353325,
     "user": {
      "displayName": "Aryan Pawar",
      "userId": "00492405077873426637"
     },
     "user_tz": -330
    },
    "id": "VryLw-537-LM",
    "outputId": "092b029c-f519-4c08-ac97-113e36be162d"
   },
   "outputs": [],
   "source": [
    "dataset_total = pd.concat((df_train['Open'],df_test['Open']),axis = 0)\n",
    "dataset_total"
   ]
  },
  {
   "cell_type": "code",
   "execution_count": null,
   "metadata": {
    "colab": {
     "base_uri": "https://localhost:8080/"
    },
    "executionInfo": {
     "elapsed": 29,
     "status": "ok",
     "timestamp": 1682516353326,
     "user": {
      "displayName": "Aryan Pawar",
      "userId": "00492405077873426637"
     },
     "user_tz": -330
    },
    "id": "1FbzJHYw8BHB",
    "outputId": "4b54811c-b5b4-44ae-8c38-9f4715c1329f"
   },
   "outputs": [],
   "source": [
    "inputs = dataset_total[len(dataset_total) - len(df_test)-60:].values\n",
    "inputs"
   ]
  },
  {
   "cell_type": "code",
   "execution_count": null,
   "metadata": {
    "colab": {
     "base_uri": "https://localhost:8080/"
    },
    "executionInfo": {
     "elapsed": 25,
     "status": "ok",
     "timestamp": 1682516353326,
     "user": {
      "displayName": "Aryan Pawar",
      "userId": "00492405077873426637"
     },
     "user_tz": -330
    },
    "id": "YJV3Ll358DpI",
    "outputId": "550a68ea-f313-44a0-84ae-8696f948c9dc"
   },
   "outputs": [],
   "source": [
    "inputs = inputs.reshape(-1,1)\n",
    "inputs"
   ]
  },
  {
   "cell_type": "code",
   "execution_count": null,
   "metadata": {
    "colab": {
     "base_uri": "https://localhost:8080/"
    },
    "executionInfo": {
     "elapsed": 22,
     "status": "ok",
     "timestamp": 1682516353327,
     "user": {
      "displayName": "Aryan Pawar",
      "userId": "00492405077873426637"
     },
     "user_tz": -330
    },
    "id": "LAzMZkYL8IOZ",
    "outputId": "1798ff8a-0fd4-4563-ae8c-befbc262c88c"
   },
   "outputs": [],
   "source": [
    "inputs = sc.transform(inputs)\n",
    "inputs.shape"
   ]
  },
  {
   "cell_type": "code",
   "execution_count": null,
   "metadata": {
    "executionInfo": {
     "elapsed": 15,
     "status": "ok",
     "timestamp": 1682516353327,
     "user": {
      "displayName": "Aryan Pawar",
      "userId": "00492405077873426637"
     },
     "user_tz": -330
    },
    "id": "VDxpgxCh8KDK"
   },
   "outputs": [],
   "source": [
    "x_test = []\n",
    "for i in range(60,185):\n",
    "    x_test.append(inputs[i-60:i,0])"
   ]
  },
  {
   "cell_type": "code",
   "execution_count": null,
   "metadata": {
    "colab": {
     "base_uri": "https://localhost:8080/"
    },
    "executionInfo": {
     "elapsed": 14,
     "status": "ok",
     "timestamp": 1682516353327,
     "user": {
      "displayName": "Aryan Pawar",
      "userId": "00492405077873426637"
     },
     "user_tz": -330
    },
    "id": "34rS-iZr8LaX",
    "outputId": "8d697a19-ce4c-47ac-fbd2-cdc64d29e5d1"
   },
   "outputs": [],
   "source": [
    "x_test = np.array(x_test)\n",
    "x_test.shape"
   ]
  },
  {
   "cell_type": "code",
   "execution_count": null,
   "metadata": {
    "colab": {
     "base_uri": "https://localhost:8080/"
    },
    "executionInfo": {
     "elapsed": 13,
     "status": "ok",
     "timestamp": 1682516353328,
     "user": {
      "displayName": "Aryan Pawar",
      "userId": "00492405077873426637"
     },
     "user_tz": -330
    },
    "id": "_Nzq2REF8Nan",
    "outputId": "f4133e30-d189-4ee2-b60c-4ef1ccd7c24e"
   },
   "outputs": [],
   "source": [
    "x_test = np.reshape(x_test, (x_test.shape[0],x_test.shape[1],1))\n",
    "x_test.shape"
   ]
  },
  {
   "cell_type": "code",
   "execution_count": null,
   "metadata": {
    "colab": {
     "base_uri": "https://localhost:8080/"
    },
    "executionInfo": {
     "elapsed": 890,
     "status": "ok",
     "timestamp": 1682516354208,
     "user": {
      "displayName": "Aryan Pawar",
      "userId": "00492405077873426637"
     },
     "user_tz": -330
    },
    "id": "o7ECtEJR8QzH",
    "outputId": "61a06baa-1477-4eb1-f6be-a77111e97942"
   },
   "outputs": [],
   "source": [
    "predicted_price = regressor.predict(x_test)"
   ]
  },
  {
   "cell_type": "code",
   "execution_count": null,
   "metadata": {
    "colab": {
     "base_uri": "https://localhost:8080/"
    },
    "executionInfo": {
     "elapsed": 9,
     "status": "ok",
     "timestamp": 1682516354209,
     "user": {
      "displayName": "Aryan Pawar",
      "userId": "00492405077873426637"
     },
     "user_tz": -330
    },
    "id": "mbMop76b8SQZ",
    "outputId": "ddca3285-6a9c-4294-f411-0edfeb34fde8"
   },
   "outputs": [],
   "source": [
    "predicted_price = sc.inverse_transform(predicted_price)\n",
    "predicted_price"
   ]
  },
  {
   "cell_type": "code",
   "execution_count": null,
   "metadata": {
    "colab": {
     "base_uri": "https://localhost:8080/",
     "height": 472
    },
    "executionInfo": {
     "elapsed": 1385,
     "status": "ok",
     "timestamp": 1682516355589,
     "user": {
      "displayName": "Aryan Pawar",
      "userId": "00492405077873426637"
     },
     "user_tz": -330
    },
    "id": "iuDdXjZ88U3p",
    "outputId": "fde817f4-fd32-4841-bda3-90ddde781031"
   },
   "outputs": [],
   "source": [
    "plt.plot(real_stock_price,color = 'red', label = 'Real Price')\n",
    "plt.plot(predicted_price, color = 'blue', label = 'Predicted Price')\n",
    "plt.title('Google Stock Price Prediction')\n",
    "plt.xlabel('Time')\n",
    "plt.ylabel('Google Stock Price')\n",
    "plt.legend()\n",
    "plt.show()"
   ]
  },
  {
   "cell_type": "code",
   "execution_count": null,
   "metadata": {},
   "outputs": [],
   "source": []
  }
 ],
 "metadata": {
  "colab": {
   "provenance": []
  },
  "kernelspec": {
   "display_name": "Python 3 (ipykernel)",
   "language": "python",
   "name": "python3"
  },
  "language_info": {
   "codemirror_mode": {
    "name": "ipython",
    "version": 3
   },
   "file_extension": ".py",
   "mimetype": "text/x-python",
   "name": "python",
   "nbconvert_exporter": "python",
   "pygments_lexer": "ipython3",
   "version": "3.10.10"
  }
 },
 "nbformat": 4,
 "nbformat_minor": 1
}
